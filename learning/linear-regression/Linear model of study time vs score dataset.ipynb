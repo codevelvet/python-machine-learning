{
 "cells": [
  {
   "cell_type": "markdown",
   "id": "26fadb9d",
   "metadata": {},
   "source": [
    "<img src=\"copyright.jpg\" width=15, height=15> These notes belong to Sridevi Pudipeddi. Apart from her students that have taken her courses, these notes should not be used for any reason. For education use, please get Sridevi Pudipeddi's permission before use. "
   ]
  },
  {
   "cell_type": "markdown",
   "id": "4df80f81",
   "metadata": {},
   "source": [
    "# Linear model example\n",
    "\n",
    "Building a linear model with one independent variable and one dependent variable.\n",
    "\n",
    "For this, we will consider the study time versus score from the pptx"
   ]
  },
  {
   "cell_type": "code",
   "execution_count": 1,
   "id": "a7bf120a",
   "metadata": {},
   "outputs": [],
   "source": [
    "import pandas as pd\n",
    "import numpy as np\n",
    "from sklearn import linear_model\n",
    "from sklearn.model_selection import train_test_split"
   ]
  },
  {
   "cell_type": "code",
   "execution_count": 2,
   "id": "679ba79b",
   "metadata": {},
   "outputs": [],
   "source": [
    "# example of study time versus score from the pptx\n",
    "\n",
    "x = np.array([16, 34, 8, 38, 39, 40, 54, 21, 16, 67, 40, 43, 47, 56, 60, 80])\n",
    "y = np.array([50, 61, 45, 60, 60, 67, 65, 59, 57, 73, 68, 71, 75, 71, 88, 94])"
   ]
  },
  {
   "cell_type": "code",
   "execution_count": 3,
   "id": "1ed52864",
   "metadata": {},
   "outputs": [
    {
     "name": "stdout",
     "output_type": "stream",
     "text": [
      "(16,)\n",
      "(16, 1)\n",
      "(16, 1)\n"
     ]
    }
   ],
   "source": [
    "print(y.shape) \n",
    "y = y.reshape(-1,1) # -1 is used to access last values in a list or a tuple\n",
    "print(y.shape)\n",
    "x = x.reshape(-1,1)\n",
    "print(x.shape)"
   ]
  },
  {
   "cell_type": "code",
   "execution_count": 4,
   "id": "6753cfcc",
   "metadata": {},
   "outputs": [],
   "source": [
    "# using train_test_split(), we are splitting the data into training and test \n",
    "# x_train, x_test, y_train, y_test\n",
    "\n",
    "x_train, x_test, y_train, y_test = train_test_split(x, y, test_size=0.2, random_state=4)\n"
   ]
  },
  {
   "cell_type": "code",
   "execution_count": 6,
   "id": "f8ef23d7",
   "metadata": {},
   "outputs": [
    {
     "name": "stdout",
     "output_type": "stream",
     "text": [
      "[[0.57787217]]\n",
      "[43.56270227]\n"
     ]
    }
   ],
   "source": [
    "reg = linear_model.LinearRegression()\n",
    "\n",
    "reg.fit(x_train, y_train)\n",
    "\n",
    "print(reg.coef_)\n",
    "print(reg.intercept_)"
   ]
  },
  {
   "cell_type": "code",
   "execution_count": 7,
   "id": "8bf77542",
   "metadata": {},
   "outputs": [],
   "source": [
    "# constraints are : minimum study time can be zero. \n",
    "# The max score can be 100"
   ]
  },
  {
   "cell_type": "code",
   "execution_count": 8,
   "id": "67d36d23",
   "metadata": {},
   "outputs": [
    {
     "name": "stdout",
     "output_type": "stream",
     "text": [
      "86.83699999999999\n"
     ]
    }
   ],
   "source": [
    "#𝑦 = 43.562 + 0.577∗ 75 \n",
    "print(43.562 + (0.577*75))"
   ]
  },
  {
   "cell_type": "code",
   "execution_count": 9,
   "id": "0dfed5bf",
   "metadata": {},
   "outputs": [
    {
     "name": "stdout",
     "output_type": "stream",
     "text": [
      "101.262\n",
      "100\n"
     ]
    }
   ],
   "source": [
    "y_max = 100\n",
    "x_input = 100\n",
    "y = 43.562 + 0.577*x_input\n",
    "print(y)\n",
    "lower = min(y, y_max)\n",
    "\n",
    "print(lower)"
   ]
  },
  {
   "cell_type": "markdown",
   "id": "447d0b8d",
   "metadata": {},
   "source": [
    "Linear regression calculator\n",
    "\n",
    "https://www.socscistatistics.com/tests/regression/default.aspx"
   ]
  }
 ],
 "metadata": {
  "kernelspec": {
   "display_name": "Python 3 (ipykernel)",
   "language": "python",
   "name": "python3"
  },
  "language_info": {
   "codemirror_mode": {
    "name": "ipython",
    "version": 3
   },
   "file_extension": ".py",
   "mimetype": "text/x-python",
   "name": "python",
   "nbconvert_exporter": "python",
   "pygments_lexer": "ipython3",
   "version": "3.10.9"
  }
 },
 "nbformat": 4,
 "nbformat_minor": 5
}
