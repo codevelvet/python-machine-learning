{
 "cells": [
  {
   "cell_type": "markdown",
   "metadata": {},
   "source": [
    "# Objectives\n",
    "\n",
    "In this notebook we will learn:\n",
    "    \n",
    "    Bias and variance\n",
    "    "
   ]
  },
  {
   "cell_type": "markdown",
   "metadata": {},
   "source": [
    "#### Bias and Variance: \n",
    "\n",
    "As we are building our model, we have to watch out for two problems:\n",
    "over-fitting and underfitting.\n",
    "\n",
    "Over-fitting - the model fits the training data but fails to establish a relationship among the features and perfroms poorly on the test data. \n",
    "\n",
    "Underfitting - the model neither fits the training data nor the test data. \n",
    "    \n",
    "<img src =\"various_fits.png\" width = 500, height = 400> \n",
    "\n",
    "Bias measures how far we are from the actual value on an average. \n",
    "\n",
    "Variance measures spread of the target values. \n",
    "\n",
    "<img src =\"bias_variance.png\" width = 500, height = 400> "
   ]
  },
  {
   "cell_type": "code",
   "execution_count": null,
   "metadata": {},
   "outputs": [],
   "source": []
  }
 ],
 "metadata": {
  "kernelspec": {
   "display_name": "Python [conda env:base] *",
   "language": "python",
   "name": "conda-base-py"
  },
  "language_info": {
   "codemirror_mode": {
    "name": "ipython",
    "version": 3
   },
   "file_extension": ".py",
   "mimetype": "text/x-python",
   "name": "python",
   "nbconvert_exporter": "python",
   "pygments_lexer": "ipython3",
   "version": "3.12.7"
  },
  "widgets": {
   "state": {},
   "version": "1.1.2"
  }
 },
 "nbformat": 4,
 "nbformat_minor": 4
}
