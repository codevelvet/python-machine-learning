{
 "cells": [
  {
   "cell_type": "markdown",
   "metadata": {
    "collapsed": true,
    "jupyter": {
     "outputs_hidden": true
    }
   },
   "source": [
    "Pandas is a popular Python module that provides high performance data \n",
    "structures and data analysis tools. Pandas is widely used to transform \n",
    "raw data for data analysis and machine learning. We will learn: \n",
    "\n",
    "• data frames and data series \n",
    "\n",
    "• reading from files \n",
    "\n",
    "• data transformation \n",
    "\n",
    "• data visualization \n",
    "\n",
    "• statistical analysis\n",
    "\n",
    "Wes McKinney developed on Pandas and open sourced it in 2009. Later Chang She become the primary contributor. "
   ]
  },
  {
   "cell_type": "markdown",
   "metadata": {
    "collapsed": true,
    "jupyter": {
     "outputs_hidden": true
    }
   },
   "source": [
    "## Data frames and Data series\n",
    "\n",
    "Series - is a one-dimensional Python object that corresponds to one column \n",
    "in a table."
   ]
  },
  {
   "cell_type": "code",
   "execution_count": null,
   "metadata": {},
   "outputs": [],
   "source": [
    "'''\n",
    "First things first, let's import pandas\n",
    "'''\n",
    "import pandas as pd\n",
    "import numpy as np"
   ]
  },
  {
   "cell_type": "markdown",
   "metadata": {},
   "source": [
    "Creating a data series from a list"
   ]
  },
  {
   "cell_type": "code",
   "execution_count": null,
   "metadata": {},
   "outputs": [],
   "source": [
    "a = [11, 15, 16, 21]\n",
    "\n",
    "sa = pd.Series(a, dtype=float)\n",
    "print(type(sa))\n",
    "print(sa)"
   ]
  },
  {
   "cell_type": "code",
   "execution_count": null,
   "metadata": {},
   "outputs": [],
   "source": [
    "b = [1, 2, '12']\n",
    "\n",
    "sb = pd.Series(b)\n",
    "\n",
    "print(sb)"
   ]
  },
  {
   "cell_type": "code",
   "execution_count": null,
   "metadata": {},
   "outputs": [],
   "source": [
    "list1 = ['Grapes', 'Apples', 'Oranges', 'Bananas']\n",
    "\n",
    "s1 = pd.Series(list1)\n",
    "\n",
    "print(list1, type(list1))\n",
    "\n",
    "print(type(s1))\n",
    "print(s1)"
   ]
  },
  {
   "cell_type": "markdown",
   "metadata": {
    "collapsed": true,
    "jupyter": {
     "outputs_hidden": true
    }
   },
   "source": [
    "Notice that rows are given numbers, these numbers are known as indices. Indices starts from 0 and go up.  "
   ]
  },
  {
   "cell_type": "markdown",
   "metadata": {
    "collapsed": true,
    "jupyter": {
     "outputs_hidden": true
    }
   },
   "source": [
    "We can provide custom index as well. "
   ]
  },
  {
   "cell_type": "code",
   "execution_count": null,
   "metadata": {},
   "outputs": [],
   "source": [
    "# defining list2 with indices\n",
    "list2 = ['GR', 'AP', 'OR', 'BA']\n",
    "\n",
    "# In series1 we say index=list2\n",
    "series1 = pd.Series(list1, index=list2)\n",
    "print(series1)"
   ]
  },
  {
   "cell_type": "code",
   "execution_count": null,
   "metadata": {},
   "outputs": [],
   "source": [
    "print(s1[0])\n",
    "\n",
    "print(series1[\"GR\"])"
   ]
  },
  {
   "cell_type": "markdown",
   "metadata": {},
   "source": [
    "Now let us define a dictionary and convert it into a series."
   ]
  },
  {
   "cell_type": "code",
   "execution_count": null,
   "metadata": {},
   "outputs": [],
   "source": [
    "d1 = {'Z': 'Zynga', 'U': 'Uber', 'G':'Google'}\n",
    "\n",
    "ds1 = pd.Series(d1)\n",
    "print(ds1)"
   ]
  },
  {
   "cell_type": "markdown",
   "metadata": {
    "collapsed": true,
    "jupyter": {
     "outputs_hidden": true
    }
   },
   "source": [
    "Let's create a series with company name as index and its current stock price as \n",
    "value. Notice that in the code below, we have a dictionary with two keys \n",
    "having None as their values."
   ]
  },
  {
   "cell_type": "code",
   "execution_count": null,
   "metadata": {},
   "outputs": [],
   "source": [
    "d2= {'Amazon': None, 'Nvidia': None}\n",
    "\n",
    "companies = pd.Series(d2, name='Price')\n",
    "\n",
    "print(companies)"
   ]
  },
  {
   "cell_type": "code",
   "execution_count": null,
   "metadata": {},
   "outputs": [],
   "source": [
    "d2= {'Amazon': 2100.0, 'Nvidia': 350}\n",
    "\n",
    "companies = pd.Series(d2, name='Price')\n",
    "\n",
    "print(companies)"
   ]
  },
  {
   "cell_type": "code",
   "execution_count": null,
   "metadata": {},
   "outputs": [],
   "source": [
    "print(companies['Amazon'])"
   ]
  },
  {
   "cell_type": "code",
   "execution_count": null,
   "metadata": {},
   "outputs": [],
   "source": [
    "d3= {'Amazon': 852, 'Nvidia': 'NaN', 'Alphabet': 856, 'Toyota': '112', \\\n",
    "    'GE': 29, 'Ford': 12, 'Marriot': None, 'amazon': 1000}\n",
    "\n",
    "companies = pd.Series(d3, name='Price')\n",
    "\n",
    "print(companies)"
   ]
  },
  {
   "cell_type": "markdown",
   "metadata": {},
   "source": [
    "Using the index we can get the corresponding stock prices. Below we are \n",
    "retrieving the stock price of Ford."
   ]
  },
  {
   "cell_type": "code",
   "execution_count": null,
   "metadata": {},
   "outputs": [],
   "source": [
    "print(companies['Ford'])"
   ]
  },
  {
   "cell_type": "code",
   "execution_count": null,
   "metadata": {},
   "outputs": [],
   "source": [
    "print(companies[['Ford']])"
   ]
  },
  {
   "cell_type": "markdown",
   "metadata": {},
   "source": [
    "We can also get stock prices for more companies. We have to supply the indices \n",
    "that we are interested in as a list."
   ]
  },
  {
   "cell_type": "code",
   "execution_count": null,
   "metadata": {},
   "outputs": [],
   "source": [
    "print(companies[['Ford']])\n",
    "print(companies[['GE']])"
   ]
  },
  {
   "cell_type": "code",
   "execution_count": null,
   "metadata": {},
   "outputs": [],
   "source": [
    "print(companies[['Ford', 'GE']])"
   ]
  },
  {
   "cell_type": "code",
   "execution_count": null,
   "metadata": {},
   "outputs": [],
   "source": [
    "print(companies[:])"
   ]
  },
  {
   "cell_type": "code",
   "execution_count": null,
   "metadata": {},
   "outputs": [],
   "source": [
    "print(companies[2:6])"
   ]
  },
  {
   "cell_type": "markdown",
   "metadata": {},
   "source": [
    "Membership can be checked using the 'in' keyword."
   ]
  },
  {
   "cell_type": "code",
   "execution_count": null,
   "metadata": {},
   "outputs": [],
   "source": [
    "print('Amazon' in companies)\n",
    "print('Apple' in companies)"
   ]
  },
  {
   "cell_type": "markdown",
   "metadata": {},
   "source": [
    "If we want to know companies for which we don't have stock price, then we have \n",
    "to use the isnull(). True will be returned for the indices that don't have a \n",
    "value and False for the indices that have \n",
    "a value."
   ]
  },
  {
   "cell_type": "code",
   "execution_count": null,
   "metadata": {},
   "outputs": [],
   "source": [
    "d2 = {'Amazon': 3202, 'Nvidia': None, 'Alphabet': 2349, 'Toyota': np.nan, \\\n",
    "    'GE': 14, 'Ford': 16, 'Marriot': None, 'amazon': 3000}\n",
    "\n",
    "companies = pd.Series(d2)\n",
    "\n",
    "print(companies)"
   ]
  },
  {
   "cell_type": "code",
   "execution_count": null,
   "metadata": {},
   "outputs": [],
   "source": [
    "print(companies)\n",
    "print(\"+++++++++++++++++\")\n",
    "print(companies.isnull())\n",
    "print(\"+++++++++++++++++\")\n",
    "print(companies.isnull().sum())\n",
    "print(\"+++++++++++++++++\")\n",
    "print(companies.notnull().sum())"
   ]
  },
  {
   "cell_type": "code",
   "execution_count": null,
   "metadata": {},
   "outputs": [],
   "source": [
    "b1 = False\n",
    "print(int(b1))\n",
    "print(float(b1))\n",
    "\n",
    "b2 = True\n",
    "print(int(b2))\n",
    "print(float(b2))"
   ]
  },
  {
   "cell_type": "code",
   "execution_count": null,
   "metadata": {},
   "outputs": [],
   "source": [
    "c = np.array([True, False, False, False])\n",
    "\n",
    "print(c.sum())"
   ]
  },
  {
   "cell_type": "markdown",
   "metadata": {
    "collapsed": true,
    "jupyter": {
     "outputs_hidden": true
    }
   },
   "source": [
    "A dataframe is a tabular data structure that consists of rows and columns. \n",
    "Dataframe is nothing but a collection of series."
   ]
  },
  {
   "cell_type": "markdown",
   "metadata": {
    "collapsed": true,
    "jupyter": {
     "outputs_hidden": true
    }
   },
   "source": [
    "Let's create a dataframe using a dicitonary as shown below."
   ]
  },
  {
   "cell_type": "code",
   "execution_count": null,
   "metadata": {},
   "outputs": [],
   "source": [
    "c1= {'Name': ['Amazon', 'GE', 'Toyota', 'Twitter', 'Ford', 'Marriot'],\n",
    "     'Founded': [1994, 1923, 1937, 2006, 1903, 1927], \n",
    "     'Price': [852, 111.2, 112, 15.2, 12.5, 88.31]}\n",
    "\n",
    "companies = pd.DataFrame(c1)\n",
    "\n",
    "print(companies)\n",
    "\n",
    "print(companies.columns)\n"
   ]
  },
  {
   "cell_type": "code",
   "execution_count": null,
   "metadata": {},
   "outputs": [],
   "source": [
    "c1 = {'Name': ['Amazon', 'GE', 'Toyota', 'Twitter', 'Ford', 'Marriot'],\n",
    "     'Founded': [1994, 1923, 1937, 2006, 1903, 1927], \n",
    "     'Price': [852, 111.2, 112, 15.2, 12.5, 88.31],\n",
    "     'Name': ['Apple', 'Google', 'Toyota', 'Twitter', 'Ford', 'Marriot']}\n",
    "\n",
    "companies = pd.DataFrame(c1, columns=['Name', 'Price', 'Founded'])\n",
    "\n",
    "print(companies)\n",
    "\n",
    "print(\"+++++++++++\")\n",
    "print(companies.columns)"
   ]
  },
  {
   "cell_type": "code",
   "execution_count": null,
   "metadata": {},
   "outputs": [],
   "source": [
    "companies[0:4]"
   ]
  },
  {
   "cell_type": "code",
   "execution_count": null,
   "metadata": {},
   "outputs": [],
   "source": [
    "c1 = {'Founded': [1994, 1923, 1937, 2006, 1903, 1927],\n",
    "     'Price': [852, 111.2, 112, 15.2, 12.5, 88.31]}\n",
    "\n",
    "# here Name is a separate list\n",
    "Name = ['Amazon', 'GE', 'Toyota', 'Twitter', 'Ford', 'Marriot']\n",
    "\n",
    "cc = pd.DataFrame(c1, index=Name)\n",
    "\n",
    "print(cc)"
   ]
  },
  {
   "cell_type": "code",
   "execution_count": null,
   "metadata": {},
   "outputs": [],
   "source": [
    "c1 = {'Name' : ['Amazon', 'GE', 'Toyota', 'Twitter', 'Ford', 'Marriot'],\n",
    "      'Founded': [1994, 1923, 1937, 2006, 1903, 1927],\n",
    "      'Price': [852, 111.2, 112, 15.2, 12.5, 88.31]}\n",
    "\n",
    "\n",
    "\n",
    "cc = pd.DataFrame(c1)\n",
    "\n",
    "cc.set_index('Name', inplace=True)\n",
    "\n",
    "print(cc)"
   ]
  },
  {
   "cell_type": "code",
   "execution_count": null,
   "metadata": {},
   "outputs": [],
   "source": [
    "\"\"\"\n",
    "In-class activity: Create a data series which comprises of names of 6 \n",
    "US capitals. Print the contents of the data series.\n",
    "\"\"\"\n",
    "d1 = ['Sacramento', 'Albany', 'Oklahoma City', 'Denver', 'Phoenix', 'Carson City' ]\n",
    "\n",
    "capitals = pd.Series(d1)\n",
    "\n",
    "capitals"
   ]
  },
  {
   "cell_type": "code",
   "execution_count": null,
   "metadata": {},
   "outputs": [],
   "source": [
    "\"\"\"\n",
    "In-class activity: To the above data series include state of each capital as an index. \n",
    "\"\"\"\n",
    "d1 = {'CA': 'Sacramento', 'NY': 'Albany', 'OK': 'Oklahoma City', 'CO': 'Denver', 'AZ':'Phoenix', 'NV': 'Carson City'}\n",
    "\n",
    "capitals = pd.Series(d1)\n",
    "\n",
    "capitals"
   ]
  },
  {
   "cell_type": "markdown",
   "metadata": {
    "collapsed": true,
    "jupyter": {
     "outputs_hidden": true
    }
   },
   "source": [
    "## Reading files\n",
    "\n",
    "Reading a csv file. "
   ]
  },
  {
   "cell_type": "code",
   "execution_count": null,
   "metadata": {},
   "outputs": [],
   "source": [
    "import pandas as pd\n",
    "\n",
    "movies = pd.read_csv('alldata/imdb_movie/movie_metadata.csv')\n",
    "\n",
    "print(type(movies))\n",
    "# head() will print the first 5 rows\n",
    "movies.head()"
   ]
  },
  {
   "cell_type": "code",
   "execution_count": null,
   "metadata": {},
   "outputs": [],
   "source": [
    "print(movies.head())"
   ]
  },
  {
   "cell_type": "code",
   "execution_count": null,
   "metadata": {},
   "outputs": [],
   "source": [
    "print(movies.columns)"
   ]
  },
  {
   "cell_type": "code",
   "execution_count": null,
   "metadata": {},
   "outputs": [],
   "source": [
    "print(movies.dtypes)"
   ]
  },
  {
   "cell_type": "code",
   "execution_count": null,
   "metadata": {},
   "outputs": [],
   "source": [
    "print(movies.shape)"
   ]
  },
  {
   "cell_type": "code",
   "execution_count": null,
   "metadata": {},
   "outputs": [],
   "source": [
    "# for number of rows use shape[0]\n",
    "print(movies.shape[0])"
   ]
  },
  {
   "cell_type": "code",
   "execution_count": null,
   "metadata": {},
   "outputs": [],
   "source": [
    "# for number of columns use shape[1]\n",
    "print(movies.shape[1])"
   ]
  },
  {
   "cell_type": "code",
   "execution_count": null,
   "metadata": {},
   "outputs": [],
   "source": [
    "print(type(movies))"
   ]
  },
  {
   "cell_type": "code",
   "execution_count": null,
   "metadata": {},
   "outputs": [],
   "source": [
    "movies"
   ]
  },
  {
   "cell_type": "markdown",
   "metadata": {},
   "source": [
    "We can create a series from the movies dataframe. "
   ]
  },
  {
   "cell_type": "code",
   "execution_count": null,
   "metadata": {},
   "outputs": [],
   "source": [
    "movies_dir = movies['director_name']\n",
    "print(type(movies_dir))\n",
    "print(movies_dir.head())"
   ]
  },
  {
   "cell_type": "code",
   "execution_count": null,
   "metadata": {},
   "outputs": [],
   "source": [
    "print(type(movies_dir))"
   ]
  },
  {
   "cell_type": "markdown",
   "metadata": {},
   "source": [
    "## Creating a smaller dataframe\n",
    "\n",
    "Let's create a new dataframe with columns: \n",
    "movie_title, duration, budget, gross, genres, director_name."
   ]
  },
  {
   "cell_type": "code",
   "execution_count": null,
   "metadata": {},
   "outputs": [],
   "source": [
    "newmovies = movies[['movie_title', 'duration', 'budget', 'gross', 'genres', 'director_name']]\n",
    "print(newmovies.head())"
   ]
  },
  {
   "cell_type": "code",
   "execution_count": null,
   "metadata": {},
   "outputs": [],
   "source": [
    "print(newmovies.shape)"
   ]
  },
  {
   "cell_type": "markdown",
   "metadata": {},
   "source": [
    "We can use sort_values() to sort a dataframe."
   ]
  },
  {
   "cell_type": "code",
   "execution_count": null,
   "metadata": {},
   "outputs": [],
   "source": [
    "print(newmovies.sort_values('director_name').head())"
   ]
  },
  {
   "cell_type": "code",
   "execution_count": null,
   "metadata": {},
   "outputs": [],
   "source": [
    "newmovies.sort_values('director_name').head()"
   ]
  },
  {
   "cell_type": "markdown",
   "metadata": {},
   "source": [
    "Notice that not all values in our data frame are finite. So, now we want to drop \n",
    "rows that have NaN in any column. "
   ]
  },
  {
   "cell_type": "markdown",
   "metadata": {},
   "source": [
    "## Data Transformation"
   ]
  },
  {
   "cell_type": "markdown",
   "metadata": {},
   "source": [
    "### Mutability "
   ]
  },
  {
   "cell_type": "code",
   "execution_count": null,
   "metadata": {},
   "outputs": [],
   "source": [
    "# Example of shallow copy\n",
    "\n",
    "listA = [12, 20]\n",
    "\n",
    "listB = listA # shallow copy\n",
    "\n",
    "print(listA)\n",
    "print(listB)\n",
    "\n",
    "\n",
    "print(\"++++++++++++++\")\n",
    "listB.append(-1000)\n",
    "\n",
    "print(listA)\n",
    "print(listB)"
   ]
  },
  {
   "cell_type": "code",
   "execution_count": null,
   "metadata": {},
   "outputs": [],
   "source": [
    "# Example of deep copy\n",
    "import copy\n",
    "\n",
    "listA2 = [12, 20]\n",
    "\n",
    "listB2 = listA2.copy() # deep copy\n",
    "\n",
    "print(listA2)\n",
    "print(listB2)\n",
    "\n",
    "\n",
    "print(\"++++++++++++++\")\n",
    "listB2.append(-3000)\n",
    "\n",
    "print(listA2)\n",
    "print(listB2)"
   ]
  },
  {
   "cell_type": "markdown",
   "metadata": {},
   "source": [
    "### Creating a deep copy of newmovies\n",
    "\n",
    "Dropping rows that have NaN anywhere"
   ]
  },
  {
   "cell_type": "code",
   "execution_count": null,
   "metadata": {},
   "outputs": [],
   "source": [
    "newmovies1 = newmovies.copy(deep=True) # making a deep copy"
   ]
  },
  {
   "cell_type": "code",
   "execution_count": null,
   "metadata": {},
   "outputs": [],
   "source": [
    "newnew = newmovies1.copy(deep=False) "
   ]
  },
  {
   "cell_type": "code",
   "execution_count": null,
   "metadata": {},
   "outputs": [],
   "source": [
    "newmovies1.dropna(how='any', inplace=True) \n",
    "# dropping rows that have NaN anywhere inplace, so the newmovies1 gets modified"
   ]
  },
  {
   "cell_type": "code",
   "execution_count": null,
   "metadata": {},
   "outputs": [],
   "source": [
    "print(newmovies1.head())\n",
    "print(newmovies1.shape)"
   ]
  },
  {
   "cell_type": "markdown",
   "metadata": {},
   "source": [
    "#### Note after dropping rows with NaN in any column\n",
    "\n",
    "Total rows = 5043\n",
    "after the dropna with any, total rows = 3890\n",
    "\n",
    "Rows that are dropped = (5043-3890) = 1153\n",
    "\n",
    "So, around 20% rows got dropped.  "
   ]
  },
  {
   "cell_type": "markdown",
   "metadata": {},
   "source": [
    "#### Applying dropna to a subset"
   ]
  },
  {
   "cell_type": "code",
   "execution_count": null,
   "metadata": {},
   "outputs": [],
   "source": [
    "newmovies2 = newmovies.copy(deep=True)\n",
    "newmovies2.dropna(subset=['duration','budget'], how='any', inplace=True)"
   ]
  },
  {
   "cell_type": "code",
   "execution_count": null,
   "metadata": {},
   "outputs": [],
   "source": [
    "print(newmovies2.head())"
   ]
  },
  {
   "cell_type": "code",
   "execution_count": null,
   "metadata": {},
   "outputs": [],
   "source": [
    "newmovies2"
   ]
  },
  {
   "cell_type": "code",
   "execution_count": null,
   "metadata": {},
   "outputs": [],
   "source": [
    "print(newmovies2.shape)"
   ]
  },
  {
   "cell_type": "markdown",
   "metadata": {},
   "source": [
    "#### Note after dropna with any on the subset duration and budget\n",
    "\n",
    "Total rows = 5043\n",
    "after this transformation, rows remianing is = 4546\n",
    "\n",
    "rows dropped = 5043 - 4546\n",
    "\n",
    "Close to ten percent."
   ]
  },
  {
   "cell_type": "markdown",
   "metadata": {},
   "source": [
    "#### Applying dropna with all to a subset "
   ]
  },
  {
   "cell_type": "code",
   "execution_count": null,
   "metadata": {},
   "outputs": [],
   "source": [
    "newmoviesA = newmovies.copy(deep=True) # making a deep copy"
   ]
  },
  {
   "cell_type": "code",
   "execution_count": null,
   "metadata": {},
   "outputs": [],
   "source": [
    "newmoviesA.dropna(subset=['duration','budget'], how='all', inplace=True)"
   ]
  },
  {
   "cell_type": "code",
   "execution_count": null,
   "metadata": {},
   "outputs": [],
   "source": [
    "print(newmoviesA.shape)"
   ]
  },
  {
   "cell_type": "code",
   "execution_count": null,
   "metadata": {},
   "outputs": [],
   "source": [
    "newmoviesAA = newmovies.copy(deep=True)"
   ]
  },
  {
   "cell_type": "code",
   "execution_count": null,
   "metadata": {},
   "outputs": [],
   "source": [
    "newmoviesAA.dropna(subset=['duration','budget'], how='any', inplace=True)"
   ]
  },
  {
   "cell_type": "code",
   "execution_count": null,
   "metadata": {},
   "outputs": [],
   "source": [
    "print(newmoviesAA.shape)"
   ]
  },
  {
   "cell_type": "markdown",
   "metadata": {},
   "source": [
    "### Creating a dataframe from the original dataframe with a condition"
   ]
  },
  {
   "cell_type": "code",
   "execution_count": null,
   "metadata": {},
   "outputs": [],
   "source": [
    "newmovies['gross']>350000"
   ]
  },
  {
   "cell_type": "code",
   "execution_count": null,
   "metadata": {},
   "outputs": [],
   "source": [
    "new_gross = newmovies[newmovies['gross']>350000] # condition\n",
    "print(new_gross.shape)\n",
    "print(new_gross.head())"
   ]
  },
  {
   "cell_type": "code",
   "execution_count": null,
   "metadata": {},
   "outputs": [],
   "source": [
    "new_gross_2 = newmovies[(newmovies['gross']>350000) & (newmovies['gross']<1000000)] # condition\n",
    "print(new_gross_2.shape)\n",
    "print(new_gross_2.head())"
   ]
  },
  {
   "cell_type": "code",
   "execution_count": null,
   "metadata": {},
   "outputs": [],
   "source": [
    "\"\"\"\n",
    "In-class activity: Create a dataframe called new_budget where the budget is greater than 400000 and is less than a billion.\n",
    "\"\"\"\n",
    "new_budget = newmovies[(newmovies['budget']>400000) & (newmovies['budget']<1000000000)]\n",
    "print(new_budget.shape)\n",
    "print(new_budget.head())"
   ]
  },
  {
   "cell_type": "markdown",
   "metadata": {},
   "source": [
    "## Statistical Analysis"
   ]
  },
  {
   "cell_type": "code",
   "execution_count": null,
   "metadata": {},
   "outputs": [],
   "source": [
    "print(newmovies1.shape)\n",
    "\n",
    "print(newmovies1.describe())"
   ]
  },
  {
   "cell_type": "markdown",
   "metadata": {},
   "source": [
    "We can find how many values in each column of newmovies has NAN using isnull()."
   ]
  },
  {
   "cell_type": "code",
   "execution_count": null,
   "metadata": {},
   "outputs": [],
   "source": [
    "print(newmovies.isnull().sum())"
   ]
  },
  {
   "cell_type": "code",
   "execution_count": null,
   "metadata": {},
   "outputs": [],
   "source": [
    "print(newmovies.describe())"
   ]
  },
  {
   "cell_type": "markdown",
   "metadata": {},
   "source": [
    "### Filling NaN values \n",
    "\n",
    "First in duration and then in gross "
   ]
  },
  {
   "cell_type": "code",
   "execution_count": null,
   "metadata": {},
   "outputs": [],
   "source": [
    "newmovies3 = newmovies.copy(deep=True)\n",
    "\n",
    "print(newmovies3.isnull().sum())\n",
    "\n",
    "print(newmovies3.describe())\n",
    "\n",
    "print(\"+++++++++++++++++++\")\n",
    "print(\"Isnull after filling the NAN in the Duration column\")\n",
    "\n",
    "newmovies3['duration'] = newmovies3['duration'].fillna(value=90)\n",
    "\n",
    "print(newmovies3.isnull().sum())\n",
    "print(newmovies3.describe())"
   ]
  },
  {
   "cell_type": "code",
   "execution_count": null,
   "metadata": {},
   "outputs": [],
   "source": [
    "print(\"Isnull after filling the NAN in the gross column\")\n",
    "newmovies3['gross'] = newmovies3['gross'].fillna(value=500000)\n",
    "print(newmovies3.isnull().sum())\n",
    "print(newmovies3.describe())"
   ]
  },
  {
   "cell_type": "code",
   "execution_count": null,
   "metadata": {},
   "outputs": [],
   "source": [
    "print(newmovies3.describe())"
   ]
  },
  {
   "cell_type": "code",
   "execution_count": null,
   "metadata": {},
   "outputs": [],
   "source": [
    "print(newmovies.describe())"
   ]
  },
  {
   "cell_type": "code",
   "execution_count": null,
   "metadata": {},
   "outputs": [],
   "source": [
    "# mean of a column in a dataframe\n",
    "\n",
    "print(newmovies[\"duration\"].mean())"
   ]
  },
  {
   "cell_type": "code",
   "execution_count": null,
   "metadata": {},
   "outputs": [],
   "source": [
    "\"\"\"\n",
    "In-class activity: From the movies data frame, create a new data \n",
    "frame that comprises of movie title, duration, budget and gross. \n",
    "1) Find the number of NaN in gross.\n",
    "2) Replace NaN in gross with the mean of gross.\n",
    "\"\"\"\n",
    "newmovies2 = newmovies.copy(deep=True)\n",
    "df = pd.DataFrame(newmovies2, columns=['movie_title', 'duration', 'budget', 'gross'])\n",
    "print(df.shape)\n",
    "print(df.describe())\n",
    "print(df.isnull().sum())\n",
    "\n",
    "df['gross'] = df['gross'].fillna(value=4.846841e+07)\n",
    "\n",
    "print(df.shape)\n",
    "print(df.describe())\n",
    "df.head()\n",
    "print(df.isnull().sum())"
   ]
  },
  {
   "cell_type": "markdown",
   "metadata": {},
   "source": [
    "### Reading content from a website"
   ]
  },
  {
   "cell_type": "code",
   "execution_count": null,
   "metadata": {},
   "outputs": [],
   "source": [
    "url = \"https://raw.githubusercontent.com/cs109/2014_data/master/countries.csv\"\n",
    "countries = pd.read_csv(url)"
   ]
  },
  {
   "cell_type": "code",
   "execution_count": null,
   "metadata": {},
   "outputs": [],
   "source": [
    "print(countries.head())\n",
    "print(countries.shape, countries.shape[0])"
   ]
  },
  {
   "cell_type": "code",
   "execution_count": null,
   "metadata": {},
   "outputs": [],
   "source": [
    "print(countries.describe())"
   ]
  },
  {
   "cell_type": "code",
   "execution_count": null,
   "metadata": {},
   "outputs": [],
   "source": [
    "print(type(countries))"
   ]
  },
  {
   "cell_type": "markdown",
   "metadata": {},
   "source": [
    "#### Another Example"
   ]
  },
  {
   "cell_type": "code",
   "execution_count": null,
   "metadata": {},
   "outputs": [],
   "source": [
    "# Webpage URL\n",
    "import pandas as pd\n",
    "\n",
    "url = \"https://archive.ics.uci.edu/ml/machine-learning-databases/iris/iris.data\"\n",
    "\n",
    "# Read data from URL\n",
    "iris_data = pd.read_csv(url)\n",
    "\n",
    "iris_data.head() "
   ]
  },
  {
   "cell_type": "code",
   "execution_count": null,
   "metadata": {},
   "outputs": [],
   "source": [
    "# Webpage URL\n",
    "import pandas as pd\n",
    "\n",
    "url = \"https://archive.ics.uci.edu/ml/machine-learning-databases/iris/iris.data\"\n",
    "\n",
    "# Read data from URL\n",
    "iris_data = pd.read_csv(url, header=None)\n",
    "\n",
    "iris_data.head() "
   ]
  },
  {
   "cell_type": "code",
   "execution_count": null,
   "metadata": {},
   "outputs": [],
   "source": [
    "# Webpage URL\n",
    "url = \"https://archive.ics.uci.edu/ml/machine-learning-databases/iris/iris.data\"\n",
    "\n",
    "# Define the column names\n",
    "col_names = [\"sepal_length_in_cm\",\n",
    "            \"sepal_width_in_cm\",\n",
    "            \"petal_length_in_cm\",\n",
    "            \"petal_width_in_cm\",\n",
    "            \"class\"]\n",
    "\n",
    "# Read data from URL\n",
    "iris_data = pd.read_csv(url, names=col_names)\n",
    "\n",
    "iris_data.head() "
   ]
  },
  {
   "cell_type": "markdown",
   "metadata": {},
   "source": [
    "## Data Visualization "
   ]
  },
  {
   "cell_type": "markdown",
   "metadata": {},
   "source": [
    "The below line will make sure that the image created by the mathplot will be \n",
    "shown inside Jupyter notebook."
   ]
  },
  {
   "cell_type": "code",
   "execution_count": null,
   "metadata": {},
   "outputs": [],
   "source": [
    "%matplotlib inline"
   ]
  },
  {
   "cell_type": "markdown",
   "metadata": {},
   "source": [
    "Let us plot a histogram for duration time."
   ]
  },
  {
   "cell_type": "code",
   "execution_count": null,
   "metadata": {},
   "outputs": [],
   "source": [
    "newmovies3.duration.plot(kind='hist', bins=30)"
   ]
  },
  {
   "cell_type": "code",
   "execution_count": null,
   "metadata": {},
   "outputs": [],
   "source": [
    "import matplotlib.pyplot as plt\n",
    "\n",
    "n, bins, patches = plt.hist(newmovies3['duration'], 10, density=1,facecolor = \"r\", alpha = 0.8)\n",
    "\n",
    "print(len(n)) \n",
    "print(\"n:\", n)\n",
    "print(\"bins: \", bins)\n",
    "print(\"++++++++++++++++\")\n",
    "print(patches)\n",
    "plt.show()"
   ]
  },
  {
   "cell_type": "markdown",
   "metadata": {},
   "source": [
    "Let's consider another dataset to understand different plotting choices. "
   ]
  },
  {
   "cell_type": "code",
   "execution_count": null,
   "metadata": {},
   "outputs": [],
   "source": [
    "company = pd.read_csv('company.csv')\n",
    "print(company.head())\n",
    "print(company.shape)"
   ]
  },
  {
   "cell_type": "code",
   "execution_count": null,
   "metadata": {},
   "outputs": [],
   "source": [
    "print(company.head(15))"
   ]
  },
  {
   "cell_type": "code",
   "execution_count": null,
   "metadata": {},
   "outputs": [],
   "source": [
    "company = pd.read_csv('company.csv')\n",
    "company = company.set_index('Name')\n",
    "print(company.head())"
   ]
  },
  {
   "cell_type": "markdown",
   "metadata": {},
   "source": [
    "We plot a scatter plot between the columns sales_budget and marketing_budget."
   ]
  },
  {
   "cell_type": "code",
   "execution_count": null,
   "metadata": {},
   "outputs": [],
   "source": [
    "company.plot(kind='scatter', x ='marketing_budget', y='sales_budget')"
   ]
  },
  {
   "cell_type": "markdown",
   "metadata": {},
   "source": [
    "Creating a series with column sales_budget."
   ]
  },
  {
   "cell_type": "code",
   "execution_count": null,
   "metadata": {},
   "outputs": [],
   "source": [
    "sales = company['sales_budget'].copy(deep=True)\n",
    "sales.sort_values(inplace=True)\n",
    "\n",
    "print(sales)"
   ]
  },
  {
   "cell_type": "code",
   "execution_count": null,
   "metadata": {},
   "outputs": [],
   "source": [
    "sales_plot = sales.plot(kind='bar', color='green')\n",
    "sales_plot.set_xlabel(\"Company Name\")\n",
    "sales_plot.set_ylabel(\"Sales\")"
   ]
  },
  {
   "cell_type": "code",
   "execution_count": null,
   "metadata": {},
   "outputs": [],
   "source": [
    "\"\"\"\n",
    "In-class activity: Use the companies data frame and create a data \n",
    "series with company name and marketing budget. \n",
    "1) Create a bar graph with company name on the x-axis and \n",
    "marketing budget on the y-axis. \n",
    "\"\"\""
   ]
  },
  {
   "cell_type": "markdown",
   "metadata": {},
   "source": [
    "#### Important sites to get datasets from\n",
    "\n",
    "https://archive.ics.uci.edu/ml/index.php\n",
    "\n",
    "www.kaggle.com\n",
    "\n",
    "https://pandas.pydata.org/Pandas_Cheat_Sheet.pdf\n"
   ]
  },
  {
   "cell_type": "code",
   "execution_count": null,
   "metadata": {},
   "outputs": [],
   "source": []
  }
 ],
 "metadata": {
  "kernelspec": {
   "display_name": "Python [conda env:base] *",
   "language": "python",
   "name": "conda-base-py"
  },
  "language_info": {
   "codemirror_mode": {
    "name": "ipython",
    "version": 3
   },
   "file_extension": ".py",
   "mimetype": "text/x-python",
   "name": "python",
   "nbconvert_exporter": "python",
   "pygments_lexer": "ipython3",
   "version": "3.12.7"
  },
  "widgets": {
   "state": {},
   "version": "1.1.2"
  }
 },
 "nbformat": 4,
 "nbformat_minor": 4
}
