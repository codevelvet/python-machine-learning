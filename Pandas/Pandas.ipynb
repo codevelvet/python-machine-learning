{
 "cells": [
  {
   "cell_type": "markdown",
   "metadata": {
    "collapsed": true,
    "jupyter": {
     "outputs_hidden": true
    }
   },
   "source": [
    "Pandas is a popular Python module that provides high performance data \n",
    "structures and data analysis tools. Pandas is widely used to transform \n",
    "raw data for data analysis and machine learning. We will learn: \n",
    "\n",
    "• data frames and data series \n",
    "\n",
    "• reading from files \n",
    "\n",
    "• data transformation \n",
    "\n",
    "• data visualization \n",
    "\n",
    "• statistical analysis\n",
    "\n",
    "Wes McKinney developed on Pandas and open sourced it in 2009. Later Chang She become the primary contributor. "
   ]
  },
  {
   "cell_type": "markdown",
   "metadata": {
    "collapsed": true,
    "jupyter": {
     "outputs_hidden": true
    }
   },
   "source": [
    "## Data frames and Data series\n",
    "\n",
    "Series - is a one-dimensional Python object that corresponds to one column \n",
    "in a table."
   ]
  },
  {
   "cell_type": "code",
   "execution_count": 1,
   "metadata": {},
   "outputs": [],
   "source": [
    "'''\n",
    "First things first, let's import pandas\n",
    "'''\n",
    "import pandas as pd\n",
    "import numpy as np"
   ]
  },
  {
   "cell_type": "markdown",
   "metadata": {},
   "source": [
    "Creating a data series from a list"
   ]
  },
  {
   "cell_type": "code",
   "execution_count": 2,
   "metadata": {},
   "outputs": [
    {
     "name": "stdout",
     "output_type": "stream",
     "text": [
      "<class 'pandas.core.series.Series'>\n",
      "0    11.0\n",
      "1    15.0\n",
      "2    16.0\n",
      "3    21.0\n",
      "dtype: float64\n"
     ]
    }
   ],
   "source": [
    "a = [11, 15, 16, 21]\n",
    "\n",
    "sa = pd.Series(a, dtype=float)\n",
    "print(type(sa))\n",
    "print(sa)"
   ]
  },
  {
   "cell_type": "code",
   "execution_count": 3,
   "metadata": {},
   "outputs": [
    {
     "name": "stdout",
     "output_type": "stream",
     "text": [
      "0     1\n",
      "1     2\n",
      "2    12\n",
      "dtype: object\n"
     ]
    }
   ],
   "source": [
    "b = [1, 2, '12']\n",
    "\n",
    "sb = pd.Series(b)\n",
    "\n",
    "print(sb)"
   ]
  },
  {
   "cell_type": "code",
   "execution_count": 4,
   "metadata": {},
   "outputs": [
    {
     "name": "stdout",
     "output_type": "stream",
     "text": [
      "['Grapes', 'Apples', 'Oranges', 'Bananas'] <class 'list'>\n",
      "<class 'pandas.core.series.Series'>\n",
      "0     Grapes\n",
      "1     Apples\n",
      "2    Oranges\n",
      "3    Bananas\n",
      "dtype: object\n"
     ]
    }
   ],
   "source": [
    "list1 = ['Grapes', 'Apples', 'Oranges', 'Bananas']\n",
    "\n",
    "s1 = pd.Series(list1)\n",
    "\n",
    "print(list1, type(list1))\n",
    "\n",
    "print(type(s1))\n",
    "print(s1)"
   ]
  },
  {
   "cell_type": "markdown",
   "metadata": {
    "collapsed": true,
    "jupyter": {
     "outputs_hidden": true
    }
   },
   "source": [
    "Notice that rows are given numbers, these numbers are known as indices. Indices starts from 0 and go up.  "
   ]
  },
  {
   "cell_type": "markdown",
   "metadata": {
    "collapsed": true,
    "jupyter": {
     "outputs_hidden": true
    }
   },
   "source": [
    "We can provide custom index as well. "
   ]
  },
  {
   "cell_type": "code",
   "execution_count": 5,
   "metadata": {},
   "outputs": [
    {
     "name": "stdout",
     "output_type": "stream",
     "text": [
      "GR     Grapes\n",
      "AP     Apples\n",
      "OR    Oranges\n",
      "BA    Bananas\n",
      "dtype: object\n"
     ]
    }
   ],
   "source": [
    "# defining list2 with indices\n",
    "list2 = ['GR', 'AP', 'OR', 'BA']\n",
    "\n",
    "# In series1 we say index=list2\n",
    "series1 = pd.Series(list1, index=list2)\n",
    "print(series1)"
   ]
  },
  {
   "cell_type": "code",
   "execution_count": 6,
   "metadata": {},
   "outputs": [
    {
     "name": "stdout",
     "output_type": "stream",
     "text": [
      "Grapes\n",
      "Grapes\n"
     ]
    }
   ],
   "source": [
    "print(s1[0])\n",
    "\n",
    "print(series1[\"GR\"])"
   ]
  },
  {
   "cell_type": "markdown",
   "metadata": {},
   "source": [
    "Now let us define a dictionary and convert it into a series."
   ]
  },
  {
   "cell_type": "code",
   "execution_count": 7,
   "metadata": {},
   "outputs": [
    {
     "name": "stdout",
     "output_type": "stream",
     "text": [
      "Z     Zynga\n",
      "U      Uber\n",
      "G    Google\n",
      "dtype: object\n"
     ]
    }
   ],
   "source": [
    "d1 = {'Z': 'Zynga', 'U': 'Uber', 'G':'Google'}\n",
    "\n",
    "ds1 = pd.Series(d1)\n",
    "print(ds1)"
   ]
  },
  {
   "cell_type": "markdown",
   "metadata": {
    "collapsed": true,
    "jupyter": {
     "outputs_hidden": true
    }
   },
   "source": [
    "Let's create a series with company name as index and its current stock price as \n",
    "value. Notice that in the code below, we have a dictionary with two keys \n",
    "having None as their values."
   ]
  },
  {
   "cell_type": "code",
   "execution_count": 8,
   "metadata": {},
   "outputs": [
    {
     "name": "stdout",
     "output_type": "stream",
     "text": [
      "Amazon    None\n",
      "Nvidia    None\n",
      "Name: Price, dtype: object\n"
     ]
    }
   ],
   "source": [
    "d2= {'Amazon': None, 'Nvidia': None}\n",
    "\n",
    "companies = pd.Series(d2, name='Price')\n",
    "\n",
    "print(companies)"
   ]
  },
  {
   "cell_type": "code",
   "execution_count": 9,
   "metadata": {},
   "outputs": [
    {
     "name": "stdout",
     "output_type": "stream",
     "text": [
      "Amazon    2100.0\n",
      "Nvidia     350.0\n",
      "Name: Price, dtype: float64\n"
     ]
    }
   ],
   "source": [
    "d2= {'Amazon': 2100.0, 'Nvidia': 350}\n",
    "\n",
    "companies = pd.Series(d2, name='Price')\n",
    "\n",
    "print(companies)"
   ]
  },
  {
   "cell_type": "code",
   "execution_count": 10,
   "metadata": {},
   "outputs": [
    {
     "name": "stdout",
     "output_type": "stream",
     "text": [
      "2100.0\n"
     ]
    }
   ],
   "source": [
    "print(companies['Amazon'])"
   ]
  },
  {
   "cell_type": "code",
   "execution_count": 11,
   "metadata": {},
   "outputs": [
    {
     "name": "stdout",
     "output_type": "stream",
     "text": [
      "Amazon       852\n",
      "Nvidia       NaN\n",
      "Alphabet     856\n",
      "Toyota       112\n",
      "GE            29\n",
      "Ford          12\n",
      "Marriot     None\n",
      "amazon      1000\n",
      "Name: Price, dtype: object\n"
     ]
    }
   ],
   "source": [
    "d3= {'Amazon': 852, 'Nvidia': 'NaN', 'Alphabet': 856, 'Toyota': '112', \\\n",
    "    'GE': 29, 'Ford': 12, 'Marriot': None, 'amazon': 1000}\n",
    "\n",
    "companies = pd.Series(d3, name='Price')\n",
    "\n",
    "print(companies)"
   ]
  },
  {
   "cell_type": "markdown",
   "metadata": {},
   "source": [
    "Using the index we can get the corresponding stock prices. Below we are \n",
    "retrieving the stock price of Ford."
   ]
  },
  {
   "cell_type": "code",
   "execution_count": 12,
   "metadata": {},
   "outputs": [
    {
     "name": "stdout",
     "output_type": "stream",
     "text": [
      "12\n"
     ]
    }
   ],
   "source": [
    "print(companies['Ford'])"
   ]
  },
  {
   "cell_type": "code",
   "execution_count": 13,
   "metadata": {},
   "outputs": [
    {
     "name": "stdout",
     "output_type": "stream",
     "text": [
      "Ford    12\n",
      "Name: Price, dtype: object\n"
     ]
    }
   ],
   "source": [
    "print(companies[['Ford']])"
   ]
  },
  {
   "cell_type": "markdown",
   "metadata": {},
   "source": [
    "We can also get stock prices for more companies. We have to supply the indices \n",
    "that we are interested in as a list."
   ]
  },
  {
   "cell_type": "code",
   "execution_count": 14,
   "metadata": {},
   "outputs": [
    {
     "name": "stdout",
     "output_type": "stream",
     "text": [
      "Ford    12\n",
      "Name: Price, dtype: object\n",
      "GE    29\n",
      "Name: Price, dtype: object\n"
     ]
    }
   ],
   "source": [
    "print(companies[['Ford']])\n",
    "print(companies[['GE']])"
   ]
  },
  {
   "cell_type": "code",
   "execution_count": 15,
   "metadata": {},
   "outputs": [
    {
     "name": "stdout",
     "output_type": "stream",
     "text": [
      "Ford    12\n",
      "GE      29\n",
      "Name: Price, dtype: object\n"
     ]
    }
   ],
   "source": [
    "print(companies[['Ford', 'GE']])"
   ]
  },
  {
   "cell_type": "code",
   "execution_count": 16,
   "metadata": {},
   "outputs": [
    {
     "name": "stdout",
     "output_type": "stream",
     "text": [
      "Amazon       852\n",
      "Nvidia       NaN\n",
      "Alphabet     856\n",
      "Toyota       112\n",
      "GE            29\n",
      "Ford          12\n",
      "Marriot     None\n",
      "amazon      1000\n",
      "Name: Price, dtype: object\n"
     ]
    }
   ],
   "source": [
    "print(companies[:])"
   ]
  },
  {
   "cell_type": "code",
   "execution_count": 17,
   "metadata": {},
   "outputs": [
    {
     "name": "stdout",
     "output_type": "stream",
     "text": [
      "Alphabet    856\n",
      "Toyota      112\n",
      "GE           29\n",
      "Ford         12\n",
      "Name: Price, dtype: object\n"
     ]
    }
   ],
   "source": [
    "print(companies[2:6])"
   ]
  },
  {
   "cell_type": "markdown",
   "metadata": {},
   "source": [
    "Membership can be checked using the 'in' keyword."
   ]
  },
  {
   "cell_type": "code",
   "execution_count": 18,
   "metadata": {},
   "outputs": [
    {
     "name": "stdout",
     "output_type": "stream",
     "text": [
      "True\n",
      "False\n"
     ]
    }
   ],
   "source": [
    "print('Amazon' in companies)\n",
    "print('Apple' in companies)"
   ]
  },
  {
   "cell_type": "markdown",
   "metadata": {},
   "source": [
    "If we want to know companies for which we don't have stock price, then we have \n",
    "to use the isnull(). True will be returned for the indices that don't have a \n",
    "value and False for the indices that have \n",
    "a value."
   ]
  },
  {
   "cell_type": "code",
   "execution_count": 19,
   "metadata": {},
   "outputs": [
    {
     "name": "stdout",
     "output_type": "stream",
     "text": [
      "Amazon      3202.0\n",
      "Nvidia         NaN\n",
      "Alphabet    2349.0\n",
      "Toyota         NaN\n",
      "GE            14.0\n",
      "Ford          16.0\n",
      "Marriot        NaN\n",
      "amazon      3000.0\n",
      "dtype: float64\n"
     ]
    }
   ],
   "source": [
    "d2 = {'Amazon': 3202, 'Nvidia': None, 'Alphabet': 2349, 'Toyota': np.nan, \\\n",
    "    'GE': 14, 'Ford': 16, 'Marriot': None, 'amazon': 3000}\n",
    "\n",
    "companies = pd.Series(d2)\n",
    "\n",
    "print(companies)"
   ]
  },
  {
   "cell_type": "code",
   "execution_count": 20,
   "metadata": {},
   "outputs": [
    {
     "name": "stdout",
     "output_type": "stream",
     "text": [
      "Amazon      3202.0\n",
      "Nvidia         NaN\n",
      "Alphabet    2349.0\n",
      "Toyota         NaN\n",
      "GE            14.0\n",
      "Ford          16.0\n",
      "Marriot        NaN\n",
      "amazon      3000.0\n",
      "dtype: float64\n",
      "+++++++++++++++++\n",
      "Amazon      False\n",
      "Nvidia       True\n",
      "Alphabet    False\n",
      "Toyota       True\n",
      "GE          False\n",
      "Ford        False\n",
      "Marriot      True\n",
      "amazon      False\n",
      "dtype: bool\n",
      "+++++++++++++++++\n",
      "3\n"
     ]
    }
   ],
   "source": [
    "print(companies)\n",
    "print(\"+++++++++++++++++\")\n",
    "print(companies.isnull())\n",
    "print(\"+++++++++++++++++\")\n",
    "print(companies.isnull().sum())"
   ]
  },
  {
   "cell_type": "code",
   "execution_count": 21,
   "metadata": {},
   "outputs": [
    {
     "name": "stdout",
     "output_type": "stream",
     "text": [
      "0\n",
      "0.0\n",
      "1\n",
      "1.0\n"
     ]
    }
   ],
   "source": [
    "b1 = False\n",
    "print(int(b1))\n",
    "print(float(b1))\n",
    "\n",
    "b2 = True\n",
    "print(int(b2))\n",
    "print(float(b2))"
   ]
  },
  {
   "cell_type": "code",
   "execution_count": 22,
   "metadata": {},
   "outputs": [
    {
     "name": "stdout",
     "output_type": "stream",
     "text": [
      "1\n"
     ]
    }
   ],
   "source": [
    "c = np.array([True, False, False, False])\n",
    "\n",
    "print(c.sum())"
   ]
  },
  {
   "cell_type": "markdown",
   "metadata": {
    "collapsed": true,
    "jupyter": {
     "outputs_hidden": true
    }
   },
   "source": [
    "A dataframe is a tabular data structure that consists of rows and columns. \n",
    "Dataframe is nothing but a collection of series."
   ]
  },
  {
   "cell_type": "markdown",
   "metadata": {
    "collapsed": true,
    "jupyter": {
     "outputs_hidden": true
    }
   },
   "source": [
    "Let's create a dataframe using a dicitonary as shown below."
   ]
  },
  {
   "cell_type": "code",
   "execution_count": 23,
   "metadata": {},
   "outputs": [
    {
     "name": "stdout",
     "output_type": "stream",
     "text": [
      "      Name  Founded   Price\n",
      "0   Amazon     1994  852.00\n",
      "1       GE     1923  111.20\n",
      "2   Toyota     1937  112.00\n",
      "3  Twitter     2006   15.20\n",
      "4     Ford     1903   12.50\n",
      "5  Marriot     1927   88.31\n",
      "Index(['Name', 'Founded', 'Price'], dtype='object')\n"
     ]
    }
   ],
   "source": [
    "c1= {'Name': ['Amazon', 'GE', 'Toyota', 'Twitter', 'Ford', 'Marriot'],\n",
    "     'Founded': [1994, 1923, 1937, 2006, 1903, 1927], \n",
    "     'Price': [852, 111.2, 112, 15.2, 12.5, 88.31]}\n",
    "\n",
    "companies = pd.DataFrame(c1)\n",
    "\n",
    "print(companies)\n",
    "\n",
    "print(companies.columns)"
   ]
  },
  {
   "cell_type": "code",
   "execution_count": 24,
   "metadata": {},
   "outputs": [
    {
     "name": "stdout",
     "output_type": "stream",
     "text": [
      "      Name   Price  Founded\n",
      "0    Apple  852.00     1994\n",
      "1   Google  111.20     1923\n",
      "2   Toyota  112.00     1937\n",
      "3  Twitter   15.20     2006\n",
      "4     Ford   12.50     1903\n",
      "5  Marriot   88.31     1927\n",
      "+++++++++++\n",
      "Index(['Name', 'Price', 'Founded'], dtype='object')\n"
     ]
    }
   ],
   "source": [
    "c1 = {'Name': ['Amazon', 'GE', 'Toyota', 'Twitter', 'Ford', 'Marriot'],\n",
    "     'Founded': [1994, 1923, 1937, 2006, 1903, 1927], \n",
    "     'Price': [852, 111.2, 112, 15.2, 12.5, 88.31],\n",
    "     'Name': ['Apple', 'Google', 'Toyota', 'Twitter', 'Ford', 'Marriot']}\n",
    "\n",
    "companies = pd.DataFrame(c1, columns=['Name', 'Price', 'Founded'])\n",
    "\n",
    "print(companies)\n",
    "\n",
    "print(\"+++++++++++\")\n",
    "print(companies.columns)"
   ]
  },
  {
   "cell_type": "code",
   "execution_count": 25,
   "metadata": {},
   "outputs": [
    {
     "name": "stdout",
     "output_type": "stream",
     "text": [
      "         Founded   Price\n",
      "Amazon      1994  852.00\n",
      "GE          1923  111.20\n",
      "Toyota      1937  112.00\n",
      "Twitter     2006   15.20\n",
      "Ford        1903   12.50\n",
      "Marriot     1927   88.31\n"
     ]
    }
   ],
   "source": [
    "c1 = {'Founded': [1994, 1923, 1937, 2006, 1903, 1927],\n",
    "     'Price': [852, 111.2, 112, 15.2, 12.5, 88.31]}\n",
    "\n",
    "# here Name is a separate list\n",
    "Name = ['Amazon', 'GE', 'Toyota', 'Twitter', 'Ford', 'Marriot']\n",
    "\n",
    "cc = pd.DataFrame(c1, index=Name)\n",
    "\n",
    "print(cc)"
   ]
  },
  {
   "cell_type": "code",
   "execution_count": 26,
   "metadata": {},
   "outputs": [
    {
     "name": "stdout",
     "output_type": "stream",
     "text": [
      "         Founded   Price\n",
      "Name                    \n",
      "Amazon      1994  852.00\n",
      "GE          1923  111.20\n",
      "Toyota      1937  112.00\n",
      "Twitter     2006   15.20\n",
      "Ford        1903   12.50\n",
      "Marriot     1927   88.31\n"
     ]
    }
   ],
   "source": [
    "c1 = {'Name' : ['Amazon', 'GE', 'Toyota', 'Twitter', 'Ford', 'Marriot'],\n",
    "      'Founded': [1994, 1923, 1937, 2006, 1903, 1927],\n",
    "      'Price': [852, 111.2, 112, 15.2, 12.5, 88.31]}\n",
    "\n",
    "\n",
    "\n",
    "cc = pd.DataFrame(c1)\n",
    "\n",
    "cc.set_index('Name', inplace=True)\n",
    "\n",
    "print(cc)"
   ]
  },
  {
   "cell_type": "code",
   "execution_count": 27,
   "metadata": {},
   "outputs": [
    {
     "data": {
      "text/plain": [
       "'\\nIn-class activity: Create a data series which comprises of names of 6 \\nUS capitals. Print the contents of the data series.\\n'"
      ]
     },
     "execution_count": 27,
     "metadata": {},
     "output_type": "execute_result"
    }
   ],
   "source": [
    "\"\"\"\n",
    "In-class activity: Create a data series which comprises of names of 6 \n",
    "US capitals. Print the contents of the data series.\n",
    "\"\"\""
   ]
  },
  {
   "cell_type": "code",
   "execution_count": 28,
   "metadata": {},
   "outputs": [
    {
     "data": {
      "text/plain": [
       "'\\nIn-class activity: To the above data series include state of each capital as an index. \\n'"
      ]
     },
     "execution_count": 28,
     "metadata": {},
     "output_type": "execute_result"
    }
   ],
   "source": [
    "\"\"\"\n",
    "In-class activity: To the above data series include state of each capital as an index. \n",
    "\"\"\""
   ]
  },
  {
   "cell_type": "markdown",
   "metadata": {
    "collapsed": true,
    "jupyter": {
     "outputs_hidden": true
    }
   },
   "source": [
    "## Reading files\n",
    "\n",
    "Reading a csv file. "
   ]
  },
  {
   "cell_type": "code",
   "execution_count": 29,
   "metadata": {},
   "outputs": [
    {
     "name": "stdout",
     "output_type": "stream",
     "text": [
      "<class 'pandas.core.frame.DataFrame'>\n"
     ]
    },
    {
     "data": {
      "text/html": [
       "<div>\n",
       "<style scoped>\n",
       "    .dataframe tbody tr th:only-of-type {\n",
       "        vertical-align: middle;\n",
       "    }\n",
       "\n",
       "    .dataframe tbody tr th {\n",
       "        vertical-align: top;\n",
       "    }\n",
       "\n",
       "    .dataframe thead th {\n",
       "        text-align: right;\n",
       "    }\n",
       "</style>\n",
       "<table border=\"1\" class=\"dataframe\">\n",
       "  <thead>\n",
       "    <tr style=\"text-align: right;\">\n",
       "      <th></th>\n",
       "      <th>color</th>\n",
       "      <th>director_name</th>\n",
       "      <th>num_critic_for_reviews</th>\n",
       "      <th>duration</th>\n",
       "      <th>director_facebook_likes</th>\n",
       "      <th>actor_3_facebook_likes</th>\n",
       "      <th>actor_2_name</th>\n",
       "      <th>actor_1_facebook_likes</th>\n",
       "      <th>gross</th>\n",
       "      <th>genres</th>\n",
       "      <th>...</th>\n",
       "      <th>num_user_for_reviews</th>\n",
       "      <th>language</th>\n",
       "      <th>country</th>\n",
       "      <th>content_rating</th>\n",
       "      <th>budget</th>\n",
       "      <th>title_year</th>\n",
       "      <th>actor_2_facebook_likes</th>\n",
       "      <th>imdb_score</th>\n",
       "      <th>aspect_ratio</th>\n",
       "      <th>movie_facebook_likes</th>\n",
       "    </tr>\n",
       "  </thead>\n",
       "  <tbody>\n",
       "    <tr>\n",
       "      <th>0</th>\n",
       "      <td>Color</td>\n",
       "      <td>James Cameron</td>\n",
       "      <td>723.0</td>\n",
       "      <td>178.0</td>\n",
       "      <td>0.0</td>\n",
       "      <td>855.0</td>\n",
       "      <td>Joel David Moore</td>\n",
       "      <td>1000.0</td>\n",
       "      <td>760505847.0</td>\n",
       "      <td>Action|Adventure|Fantasy|Sci-Fi</td>\n",
       "      <td>...</td>\n",
       "      <td>3054.0</td>\n",
       "      <td>English</td>\n",
       "      <td>USA</td>\n",
       "      <td>PG-13</td>\n",
       "      <td>237000000.0</td>\n",
       "      <td>2009.0</td>\n",
       "      <td>936.0</td>\n",
       "      <td>7.9</td>\n",
       "      <td>1.78</td>\n",
       "      <td>33000</td>\n",
       "    </tr>\n",
       "    <tr>\n",
       "      <th>1</th>\n",
       "      <td>Color</td>\n",
       "      <td>Gore Verbinski</td>\n",
       "      <td>302.0</td>\n",
       "      <td>169.0</td>\n",
       "      <td>563.0</td>\n",
       "      <td>1000.0</td>\n",
       "      <td>Orlando Bloom</td>\n",
       "      <td>40000.0</td>\n",
       "      <td>309404152.0</td>\n",
       "      <td>Action|Adventure|Fantasy</td>\n",
       "      <td>...</td>\n",
       "      <td>1238.0</td>\n",
       "      <td>English</td>\n",
       "      <td>USA</td>\n",
       "      <td>PG-13</td>\n",
       "      <td>300000000.0</td>\n",
       "      <td>2007.0</td>\n",
       "      <td>5000.0</td>\n",
       "      <td>7.1</td>\n",
       "      <td>2.35</td>\n",
       "      <td>0</td>\n",
       "    </tr>\n",
       "    <tr>\n",
       "      <th>2</th>\n",
       "      <td>Color</td>\n",
       "      <td>Sam Mendes</td>\n",
       "      <td>602.0</td>\n",
       "      <td>148.0</td>\n",
       "      <td>0.0</td>\n",
       "      <td>161.0</td>\n",
       "      <td>Rory Kinnear</td>\n",
       "      <td>11000.0</td>\n",
       "      <td>200074175.0</td>\n",
       "      <td>Action|Adventure|Thriller</td>\n",
       "      <td>...</td>\n",
       "      <td>994.0</td>\n",
       "      <td>English</td>\n",
       "      <td>UK</td>\n",
       "      <td>PG-13</td>\n",
       "      <td>245000000.0</td>\n",
       "      <td>2015.0</td>\n",
       "      <td>393.0</td>\n",
       "      <td>6.8</td>\n",
       "      <td>2.35</td>\n",
       "      <td>85000</td>\n",
       "    </tr>\n",
       "    <tr>\n",
       "      <th>3</th>\n",
       "      <td>Color</td>\n",
       "      <td>Christopher Nolan</td>\n",
       "      <td>813.0</td>\n",
       "      <td>164.0</td>\n",
       "      <td>22000.0</td>\n",
       "      <td>23000.0</td>\n",
       "      <td>Christian Bale</td>\n",
       "      <td>27000.0</td>\n",
       "      <td>448130642.0</td>\n",
       "      <td>Action|Thriller</td>\n",
       "      <td>...</td>\n",
       "      <td>2701.0</td>\n",
       "      <td>English</td>\n",
       "      <td>USA</td>\n",
       "      <td>PG-13</td>\n",
       "      <td>250000000.0</td>\n",
       "      <td>2012.0</td>\n",
       "      <td>23000.0</td>\n",
       "      <td>8.5</td>\n",
       "      <td>2.35</td>\n",
       "      <td>164000</td>\n",
       "    </tr>\n",
       "    <tr>\n",
       "      <th>4</th>\n",
       "      <td>NaN</td>\n",
       "      <td>Doug Walker</td>\n",
       "      <td>NaN</td>\n",
       "      <td>NaN</td>\n",
       "      <td>131.0</td>\n",
       "      <td>NaN</td>\n",
       "      <td>Rob Walker</td>\n",
       "      <td>131.0</td>\n",
       "      <td>NaN</td>\n",
       "      <td>Documentary</td>\n",
       "      <td>...</td>\n",
       "      <td>NaN</td>\n",
       "      <td>NaN</td>\n",
       "      <td>NaN</td>\n",
       "      <td>NaN</td>\n",
       "      <td>NaN</td>\n",
       "      <td>NaN</td>\n",
       "      <td>12.0</td>\n",
       "      <td>7.1</td>\n",
       "      <td>NaN</td>\n",
       "      <td>0</td>\n",
       "    </tr>\n",
       "  </tbody>\n",
       "</table>\n",
       "<p>5 rows × 28 columns</p>\n",
       "</div>"
      ],
      "text/plain": [
       "   color      director_name  num_critic_for_reviews  duration  \\\n",
       "0  Color      James Cameron                   723.0     178.0   \n",
       "1  Color     Gore Verbinski                   302.0     169.0   \n",
       "2  Color         Sam Mendes                   602.0     148.0   \n",
       "3  Color  Christopher Nolan                   813.0     164.0   \n",
       "4    NaN        Doug Walker                     NaN       NaN   \n",
       "\n",
       "   director_facebook_likes  actor_3_facebook_likes      actor_2_name  \\\n",
       "0                      0.0                   855.0  Joel David Moore   \n",
       "1                    563.0                  1000.0     Orlando Bloom   \n",
       "2                      0.0                   161.0      Rory Kinnear   \n",
       "3                  22000.0                 23000.0    Christian Bale   \n",
       "4                    131.0                     NaN        Rob Walker   \n",
       "\n",
       "   actor_1_facebook_likes        gross                           genres  ...  \\\n",
       "0                  1000.0  760505847.0  Action|Adventure|Fantasy|Sci-Fi  ...   \n",
       "1                 40000.0  309404152.0         Action|Adventure|Fantasy  ...   \n",
       "2                 11000.0  200074175.0        Action|Adventure|Thriller  ...   \n",
       "3                 27000.0  448130642.0                  Action|Thriller  ...   \n",
       "4                   131.0          NaN                      Documentary  ...   \n",
       "\n",
       "  num_user_for_reviews language  country  content_rating       budget  \\\n",
       "0               3054.0  English      USA           PG-13  237000000.0   \n",
       "1               1238.0  English      USA           PG-13  300000000.0   \n",
       "2                994.0  English       UK           PG-13  245000000.0   \n",
       "3               2701.0  English      USA           PG-13  250000000.0   \n",
       "4                  NaN      NaN      NaN             NaN          NaN   \n",
       "\n",
       "   title_year actor_2_facebook_likes imdb_score  aspect_ratio  \\\n",
       "0      2009.0                  936.0        7.9          1.78   \n",
       "1      2007.0                 5000.0        7.1          2.35   \n",
       "2      2015.0                  393.0        6.8          2.35   \n",
       "3      2012.0                23000.0        8.5          2.35   \n",
       "4         NaN                   12.0        7.1           NaN   \n",
       "\n",
       "  movie_facebook_likes  \n",
       "0                33000  \n",
       "1                    0  \n",
       "2                85000  \n",
       "3               164000  \n",
       "4                    0  \n",
       "\n",
       "[5 rows x 28 columns]"
      ]
     },
     "execution_count": 29,
     "metadata": {},
     "output_type": "execute_result"
    }
   ],
   "source": [
    "import pandas as pd\n",
    "\n",
    "movies = pd.read_csv('alldata\\imdb_movie\\movie_metadata.csv')\n",
    "\n",
    "print(type(movies))\n",
    "# head() will print the first 5 rows\n",
    "movies.head()"
   ]
  },
  {
   "cell_type": "code",
   "execution_count": 30,
   "metadata": {},
   "outputs": [
    {
     "name": "stdout",
     "output_type": "stream",
     "text": [
      "   color      director_name  num_critic_for_reviews  duration  \\\n",
      "0  Color      James Cameron                   723.0     178.0   \n",
      "1  Color     Gore Verbinski                   302.0     169.0   \n",
      "2  Color         Sam Mendes                   602.0     148.0   \n",
      "3  Color  Christopher Nolan                   813.0     164.0   \n",
      "4    NaN        Doug Walker                     NaN       NaN   \n",
      "\n",
      "   director_facebook_likes  actor_3_facebook_likes      actor_2_name  \\\n",
      "0                      0.0                   855.0  Joel David Moore   \n",
      "1                    563.0                  1000.0     Orlando Bloom   \n",
      "2                      0.0                   161.0      Rory Kinnear   \n",
      "3                  22000.0                 23000.0    Christian Bale   \n",
      "4                    131.0                     NaN        Rob Walker   \n",
      "\n",
      "   actor_1_facebook_likes        gross                           genres  ...  \\\n",
      "0                  1000.0  760505847.0  Action|Adventure|Fantasy|Sci-Fi  ...   \n",
      "1                 40000.0  309404152.0         Action|Adventure|Fantasy  ...   \n",
      "2                 11000.0  200074175.0        Action|Adventure|Thriller  ...   \n",
      "3                 27000.0  448130642.0                  Action|Thriller  ...   \n",
      "4                   131.0          NaN                      Documentary  ...   \n",
      "\n",
      "  num_user_for_reviews language  country  content_rating       budget  \\\n",
      "0               3054.0  English      USA           PG-13  237000000.0   \n",
      "1               1238.0  English      USA           PG-13  300000000.0   \n",
      "2                994.0  English       UK           PG-13  245000000.0   \n",
      "3               2701.0  English      USA           PG-13  250000000.0   \n",
      "4                  NaN      NaN      NaN             NaN          NaN   \n",
      "\n",
      "   title_year actor_2_facebook_likes imdb_score  aspect_ratio  \\\n",
      "0      2009.0                  936.0        7.9          1.78   \n",
      "1      2007.0                 5000.0        7.1          2.35   \n",
      "2      2015.0                  393.0        6.8          2.35   \n",
      "3      2012.0                23000.0        8.5          2.35   \n",
      "4         NaN                   12.0        7.1           NaN   \n",
      "\n",
      "  movie_facebook_likes  \n",
      "0                33000  \n",
      "1                    0  \n",
      "2                85000  \n",
      "3               164000  \n",
      "4                    0  \n",
      "\n",
      "[5 rows x 28 columns]\n"
     ]
    }
   ],
   "source": [
    "print(movies.head())"
   ]
  },
  {
   "cell_type": "code",
   "execution_count": 31,
   "metadata": {},
   "outputs": [
    {
     "name": "stdout",
     "output_type": "stream",
     "text": [
      "Index(['color', 'director_name', 'num_critic_for_reviews', 'duration',\n",
      "       'director_facebook_likes', 'actor_3_facebook_likes', 'actor_2_name',\n",
      "       'actor_1_facebook_likes', 'gross', 'genres', 'actor_1_name',\n",
      "       'movie_title', 'num_voted_users', 'cast_total_facebook_likes',\n",
      "       'actor_3_name', 'facenumber_in_poster', 'plot_keywords',\n",
      "       'movie_imdb_link', 'num_user_for_reviews', 'language', 'country',\n",
      "       'content_rating', 'budget', 'title_year', 'actor_2_facebook_likes',\n",
      "       'imdb_score', 'aspect_ratio', 'movie_facebook_likes'],\n",
      "      dtype='object')\n"
     ]
    }
   ],
   "source": [
    "print(movies.columns)"
   ]
  },
  {
   "cell_type": "code",
   "execution_count": 32,
   "metadata": {},
   "outputs": [
    {
     "name": "stdout",
     "output_type": "stream",
     "text": [
      "color                         object\n",
      "director_name                 object\n",
      "num_critic_for_reviews       float64\n",
      "duration                     float64\n",
      "director_facebook_likes      float64\n",
      "actor_3_facebook_likes       float64\n",
      "actor_2_name                  object\n",
      "actor_1_facebook_likes       float64\n",
      "gross                        float64\n",
      "genres                        object\n",
      "actor_1_name                  object\n",
      "movie_title                   object\n",
      "num_voted_users                int64\n",
      "cast_total_facebook_likes      int64\n",
      "actor_3_name                  object\n",
      "facenumber_in_poster         float64\n",
      "plot_keywords                 object\n",
      "movie_imdb_link               object\n",
      "num_user_for_reviews         float64\n",
      "language                      object\n",
      "country                       object\n",
      "content_rating                object\n",
      "budget                       float64\n",
      "title_year                   float64\n",
      "actor_2_facebook_likes       float64\n",
      "imdb_score                   float64\n",
      "aspect_ratio                 float64\n",
      "movie_facebook_likes           int64\n",
      "dtype: object\n"
     ]
    }
   ],
   "source": [
    "print(movies.dtypes)"
   ]
  },
  {
   "cell_type": "code",
   "execution_count": 33,
   "metadata": {},
   "outputs": [
    {
     "name": "stdout",
     "output_type": "stream",
     "text": [
      "(5043, 28)\n"
     ]
    }
   ],
   "source": [
    "print(movies.shape)"
   ]
  },
  {
   "cell_type": "code",
   "execution_count": 34,
   "metadata": {},
   "outputs": [
    {
     "name": "stdout",
     "output_type": "stream",
     "text": [
      "5043\n"
     ]
    }
   ],
   "source": [
    "# for number of rows use shape[0]\n",
    "print(movies.shape[0])"
   ]
  },
  {
   "cell_type": "code",
   "execution_count": 35,
   "metadata": {},
   "outputs": [
    {
     "name": "stdout",
     "output_type": "stream",
     "text": [
      "28\n"
     ]
    }
   ],
   "source": [
    "# for number of columns use shape[1]\n",
    "print(movies.shape[1])"
   ]
  },
  {
   "cell_type": "code",
   "execution_count": 36,
   "metadata": {},
   "outputs": [
    {
     "name": "stdout",
     "output_type": "stream",
     "text": [
      "<class 'pandas.core.frame.DataFrame'>\n"
     ]
    }
   ],
   "source": [
    "print(type(movies))"
   ]
  },
  {
   "cell_type": "code",
   "execution_count": 37,
   "metadata": {},
   "outputs": [
    {
     "data": {
      "text/html": [
       "<div>\n",
       "<style scoped>\n",
       "    .dataframe tbody tr th:only-of-type {\n",
       "        vertical-align: middle;\n",
       "    }\n",
       "\n",
       "    .dataframe tbody tr th {\n",
       "        vertical-align: top;\n",
       "    }\n",
       "\n",
       "    .dataframe thead th {\n",
       "        text-align: right;\n",
       "    }\n",
       "</style>\n",
       "<table border=\"1\" class=\"dataframe\">\n",
       "  <thead>\n",
       "    <tr style=\"text-align: right;\">\n",
       "      <th></th>\n",
       "      <th>color</th>\n",
       "      <th>director_name</th>\n",
       "      <th>num_critic_for_reviews</th>\n",
       "      <th>duration</th>\n",
       "      <th>director_facebook_likes</th>\n",
       "      <th>actor_3_facebook_likes</th>\n",
       "      <th>actor_2_name</th>\n",
       "      <th>actor_1_facebook_likes</th>\n",
       "      <th>gross</th>\n",
       "      <th>genres</th>\n",
       "      <th>...</th>\n",
       "      <th>num_user_for_reviews</th>\n",
       "      <th>language</th>\n",
       "      <th>country</th>\n",
       "      <th>content_rating</th>\n",
       "      <th>budget</th>\n",
       "      <th>title_year</th>\n",
       "      <th>actor_2_facebook_likes</th>\n",
       "      <th>imdb_score</th>\n",
       "      <th>aspect_ratio</th>\n",
       "      <th>movie_facebook_likes</th>\n",
       "    </tr>\n",
       "  </thead>\n",
       "  <tbody>\n",
       "    <tr>\n",
       "      <th>0</th>\n",
       "      <td>Color</td>\n",
       "      <td>James Cameron</td>\n",
       "      <td>723.0</td>\n",
       "      <td>178.0</td>\n",
       "      <td>0.0</td>\n",
       "      <td>855.0</td>\n",
       "      <td>Joel David Moore</td>\n",
       "      <td>1000.0</td>\n",
       "      <td>760505847.0</td>\n",
       "      <td>Action|Adventure|Fantasy|Sci-Fi</td>\n",
       "      <td>...</td>\n",
       "      <td>3054.0</td>\n",
       "      <td>English</td>\n",
       "      <td>USA</td>\n",
       "      <td>PG-13</td>\n",
       "      <td>237000000.0</td>\n",
       "      <td>2009.0</td>\n",
       "      <td>936.0</td>\n",
       "      <td>7.9</td>\n",
       "      <td>1.78</td>\n",
       "      <td>33000</td>\n",
       "    </tr>\n",
       "    <tr>\n",
       "      <th>1</th>\n",
       "      <td>Color</td>\n",
       "      <td>Gore Verbinski</td>\n",
       "      <td>302.0</td>\n",
       "      <td>169.0</td>\n",
       "      <td>563.0</td>\n",
       "      <td>1000.0</td>\n",
       "      <td>Orlando Bloom</td>\n",
       "      <td>40000.0</td>\n",
       "      <td>309404152.0</td>\n",
       "      <td>Action|Adventure|Fantasy</td>\n",
       "      <td>...</td>\n",
       "      <td>1238.0</td>\n",
       "      <td>English</td>\n",
       "      <td>USA</td>\n",
       "      <td>PG-13</td>\n",
       "      <td>300000000.0</td>\n",
       "      <td>2007.0</td>\n",
       "      <td>5000.0</td>\n",
       "      <td>7.1</td>\n",
       "      <td>2.35</td>\n",
       "      <td>0</td>\n",
       "    </tr>\n",
       "    <tr>\n",
       "      <th>2</th>\n",
       "      <td>Color</td>\n",
       "      <td>Sam Mendes</td>\n",
       "      <td>602.0</td>\n",
       "      <td>148.0</td>\n",
       "      <td>0.0</td>\n",
       "      <td>161.0</td>\n",
       "      <td>Rory Kinnear</td>\n",
       "      <td>11000.0</td>\n",
       "      <td>200074175.0</td>\n",
       "      <td>Action|Adventure|Thriller</td>\n",
       "      <td>...</td>\n",
       "      <td>994.0</td>\n",
       "      <td>English</td>\n",
       "      <td>UK</td>\n",
       "      <td>PG-13</td>\n",
       "      <td>245000000.0</td>\n",
       "      <td>2015.0</td>\n",
       "      <td>393.0</td>\n",
       "      <td>6.8</td>\n",
       "      <td>2.35</td>\n",
       "      <td>85000</td>\n",
       "    </tr>\n",
       "    <tr>\n",
       "      <th>3</th>\n",
       "      <td>Color</td>\n",
       "      <td>Christopher Nolan</td>\n",
       "      <td>813.0</td>\n",
       "      <td>164.0</td>\n",
       "      <td>22000.0</td>\n",
       "      <td>23000.0</td>\n",
       "      <td>Christian Bale</td>\n",
       "      <td>27000.0</td>\n",
       "      <td>448130642.0</td>\n",
       "      <td>Action|Thriller</td>\n",
       "      <td>...</td>\n",
       "      <td>2701.0</td>\n",
       "      <td>English</td>\n",
       "      <td>USA</td>\n",
       "      <td>PG-13</td>\n",
       "      <td>250000000.0</td>\n",
       "      <td>2012.0</td>\n",
       "      <td>23000.0</td>\n",
       "      <td>8.5</td>\n",
       "      <td>2.35</td>\n",
       "      <td>164000</td>\n",
       "    </tr>\n",
       "    <tr>\n",
       "      <th>4</th>\n",
       "      <td>NaN</td>\n",
       "      <td>Doug Walker</td>\n",
       "      <td>NaN</td>\n",
       "      <td>NaN</td>\n",
       "      <td>131.0</td>\n",
       "      <td>NaN</td>\n",
       "      <td>Rob Walker</td>\n",
       "      <td>131.0</td>\n",
       "      <td>NaN</td>\n",
       "      <td>Documentary</td>\n",
       "      <td>...</td>\n",
       "      <td>NaN</td>\n",
       "      <td>NaN</td>\n",
       "      <td>NaN</td>\n",
       "      <td>NaN</td>\n",
       "      <td>NaN</td>\n",
       "      <td>NaN</td>\n",
       "      <td>12.0</td>\n",
       "      <td>7.1</td>\n",
       "      <td>NaN</td>\n",
       "      <td>0</td>\n",
       "    </tr>\n",
       "    <tr>\n",
       "      <th>...</th>\n",
       "      <td>...</td>\n",
       "      <td>...</td>\n",
       "      <td>...</td>\n",
       "      <td>...</td>\n",
       "      <td>...</td>\n",
       "      <td>...</td>\n",
       "      <td>...</td>\n",
       "      <td>...</td>\n",
       "      <td>...</td>\n",
       "      <td>...</td>\n",
       "      <td>...</td>\n",
       "      <td>...</td>\n",
       "      <td>...</td>\n",
       "      <td>...</td>\n",
       "      <td>...</td>\n",
       "      <td>...</td>\n",
       "      <td>...</td>\n",
       "      <td>...</td>\n",
       "      <td>...</td>\n",
       "      <td>...</td>\n",
       "      <td>...</td>\n",
       "    </tr>\n",
       "    <tr>\n",
       "      <th>5038</th>\n",
       "      <td>Color</td>\n",
       "      <td>Scott Smith</td>\n",
       "      <td>1.0</td>\n",
       "      <td>87.0</td>\n",
       "      <td>2.0</td>\n",
       "      <td>318.0</td>\n",
       "      <td>Daphne Zuniga</td>\n",
       "      <td>637.0</td>\n",
       "      <td>NaN</td>\n",
       "      <td>Comedy|Drama</td>\n",
       "      <td>...</td>\n",
       "      <td>6.0</td>\n",
       "      <td>English</td>\n",
       "      <td>Canada</td>\n",
       "      <td>NaN</td>\n",
       "      <td>NaN</td>\n",
       "      <td>2013.0</td>\n",
       "      <td>470.0</td>\n",
       "      <td>7.7</td>\n",
       "      <td>NaN</td>\n",
       "      <td>84</td>\n",
       "    </tr>\n",
       "    <tr>\n",
       "      <th>5039</th>\n",
       "      <td>Color</td>\n",
       "      <td>NaN</td>\n",
       "      <td>43.0</td>\n",
       "      <td>43.0</td>\n",
       "      <td>NaN</td>\n",
       "      <td>319.0</td>\n",
       "      <td>Valorie Curry</td>\n",
       "      <td>841.0</td>\n",
       "      <td>NaN</td>\n",
       "      <td>Crime|Drama|Mystery|Thriller</td>\n",
       "      <td>...</td>\n",
       "      <td>359.0</td>\n",
       "      <td>English</td>\n",
       "      <td>USA</td>\n",
       "      <td>TV-14</td>\n",
       "      <td>NaN</td>\n",
       "      <td>NaN</td>\n",
       "      <td>593.0</td>\n",
       "      <td>7.5</td>\n",
       "      <td>16.00</td>\n",
       "      <td>32000</td>\n",
       "    </tr>\n",
       "    <tr>\n",
       "      <th>5040</th>\n",
       "      <td>Color</td>\n",
       "      <td>Benjamin Roberds</td>\n",
       "      <td>13.0</td>\n",
       "      <td>76.0</td>\n",
       "      <td>0.0</td>\n",
       "      <td>0.0</td>\n",
       "      <td>Maxwell Moody</td>\n",
       "      <td>0.0</td>\n",
       "      <td>NaN</td>\n",
       "      <td>Drama|Horror|Thriller</td>\n",
       "      <td>...</td>\n",
       "      <td>3.0</td>\n",
       "      <td>English</td>\n",
       "      <td>USA</td>\n",
       "      <td>NaN</td>\n",
       "      <td>1400.0</td>\n",
       "      <td>2013.0</td>\n",
       "      <td>0.0</td>\n",
       "      <td>6.3</td>\n",
       "      <td>NaN</td>\n",
       "      <td>16</td>\n",
       "    </tr>\n",
       "    <tr>\n",
       "      <th>5041</th>\n",
       "      <td>Color</td>\n",
       "      <td>Daniel Hsia</td>\n",
       "      <td>14.0</td>\n",
       "      <td>100.0</td>\n",
       "      <td>0.0</td>\n",
       "      <td>489.0</td>\n",
       "      <td>Daniel Henney</td>\n",
       "      <td>946.0</td>\n",
       "      <td>10443.0</td>\n",
       "      <td>Comedy|Drama|Romance</td>\n",
       "      <td>...</td>\n",
       "      <td>9.0</td>\n",
       "      <td>English</td>\n",
       "      <td>USA</td>\n",
       "      <td>PG-13</td>\n",
       "      <td>NaN</td>\n",
       "      <td>2012.0</td>\n",
       "      <td>719.0</td>\n",
       "      <td>6.3</td>\n",
       "      <td>2.35</td>\n",
       "      <td>660</td>\n",
       "    </tr>\n",
       "    <tr>\n",
       "      <th>5042</th>\n",
       "      <td>Color</td>\n",
       "      <td>Jon Gunn</td>\n",
       "      <td>43.0</td>\n",
       "      <td>90.0</td>\n",
       "      <td>16.0</td>\n",
       "      <td>16.0</td>\n",
       "      <td>Brian Herzlinger</td>\n",
       "      <td>86.0</td>\n",
       "      <td>85222.0</td>\n",
       "      <td>Documentary</td>\n",
       "      <td>...</td>\n",
       "      <td>84.0</td>\n",
       "      <td>English</td>\n",
       "      <td>USA</td>\n",
       "      <td>PG</td>\n",
       "      <td>1100.0</td>\n",
       "      <td>2004.0</td>\n",
       "      <td>23.0</td>\n",
       "      <td>6.6</td>\n",
       "      <td>1.85</td>\n",
       "      <td>456</td>\n",
       "    </tr>\n",
       "  </tbody>\n",
       "</table>\n",
       "<p>5043 rows × 28 columns</p>\n",
       "</div>"
      ],
      "text/plain": [
       "      color      director_name  num_critic_for_reviews  duration  \\\n",
       "0     Color      James Cameron                   723.0     178.0   \n",
       "1     Color     Gore Verbinski                   302.0     169.0   \n",
       "2     Color         Sam Mendes                   602.0     148.0   \n",
       "3     Color  Christopher Nolan                   813.0     164.0   \n",
       "4       NaN        Doug Walker                     NaN       NaN   \n",
       "...     ...                ...                     ...       ...   \n",
       "5038  Color        Scott Smith                     1.0      87.0   \n",
       "5039  Color                NaN                    43.0      43.0   \n",
       "5040  Color   Benjamin Roberds                    13.0      76.0   \n",
       "5041  Color        Daniel Hsia                    14.0     100.0   \n",
       "5042  Color           Jon Gunn                    43.0      90.0   \n",
       "\n",
       "      director_facebook_likes  actor_3_facebook_likes      actor_2_name  \\\n",
       "0                         0.0                   855.0  Joel David Moore   \n",
       "1                       563.0                  1000.0     Orlando Bloom   \n",
       "2                         0.0                   161.0      Rory Kinnear   \n",
       "3                     22000.0                 23000.0    Christian Bale   \n",
       "4                       131.0                     NaN        Rob Walker   \n",
       "...                       ...                     ...               ...   \n",
       "5038                      2.0                   318.0     Daphne Zuniga   \n",
       "5039                      NaN                   319.0     Valorie Curry   \n",
       "5040                      0.0                     0.0     Maxwell Moody   \n",
       "5041                      0.0                   489.0     Daniel Henney   \n",
       "5042                     16.0                    16.0  Brian Herzlinger   \n",
       "\n",
       "      actor_1_facebook_likes        gross                           genres  \\\n",
       "0                     1000.0  760505847.0  Action|Adventure|Fantasy|Sci-Fi   \n",
       "1                    40000.0  309404152.0         Action|Adventure|Fantasy   \n",
       "2                    11000.0  200074175.0        Action|Adventure|Thriller   \n",
       "3                    27000.0  448130642.0                  Action|Thriller   \n",
       "4                      131.0          NaN                      Documentary   \n",
       "...                      ...          ...                              ...   \n",
       "5038                   637.0          NaN                     Comedy|Drama   \n",
       "5039                   841.0          NaN     Crime|Drama|Mystery|Thriller   \n",
       "5040                     0.0          NaN            Drama|Horror|Thriller   \n",
       "5041                   946.0      10443.0             Comedy|Drama|Romance   \n",
       "5042                    86.0      85222.0                      Documentary   \n",
       "\n",
       "      ... num_user_for_reviews language  country  content_rating       budget  \\\n",
       "0     ...               3054.0  English      USA           PG-13  237000000.0   \n",
       "1     ...               1238.0  English      USA           PG-13  300000000.0   \n",
       "2     ...                994.0  English       UK           PG-13  245000000.0   \n",
       "3     ...               2701.0  English      USA           PG-13  250000000.0   \n",
       "4     ...                  NaN      NaN      NaN             NaN          NaN   \n",
       "...   ...                  ...      ...      ...             ...          ...   \n",
       "5038  ...                  6.0  English   Canada             NaN          NaN   \n",
       "5039  ...                359.0  English      USA           TV-14          NaN   \n",
       "5040  ...                  3.0  English      USA             NaN       1400.0   \n",
       "5041  ...                  9.0  English      USA           PG-13          NaN   \n",
       "5042  ...                 84.0  English      USA              PG       1100.0   \n",
       "\n",
       "      title_year actor_2_facebook_likes imdb_score  aspect_ratio  \\\n",
       "0         2009.0                  936.0        7.9          1.78   \n",
       "1         2007.0                 5000.0        7.1          2.35   \n",
       "2         2015.0                  393.0        6.8          2.35   \n",
       "3         2012.0                23000.0        8.5          2.35   \n",
       "4            NaN                   12.0        7.1           NaN   \n",
       "...          ...                    ...        ...           ...   \n",
       "5038      2013.0                  470.0        7.7           NaN   \n",
       "5039         NaN                  593.0        7.5         16.00   \n",
       "5040      2013.0                    0.0        6.3           NaN   \n",
       "5041      2012.0                  719.0        6.3          2.35   \n",
       "5042      2004.0                   23.0        6.6          1.85   \n",
       "\n",
       "     movie_facebook_likes  \n",
       "0                   33000  \n",
       "1                       0  \n",
       "2                   85000  \n",
       "3                  164000  \n",
       "4                       0  \n",
       "...                   ...  \n",
       "5038                   84  \n",
       "5039                32000  \n",
       "5040                   16  \n",
       "5041                  660  \n",
       "5042                  456  \n",
       "\n",
       "[5043 rows x 28 columns]"
      ]
     },
     "execution_count": 37,
     "metadata": {},
     "output_type": "execute_result"
    }
   ],
   "source": [
    "movies"
   ]
  },
  {
   "cell_type": "markdown",
   "metadata": {},
   "source": [
    "We can create a series from the movies dataframe. "
   ]
  },
  {
   "cell_type": "code",
   "execution_count": 38,
   "metadata": {},
   "outputs": [
    {
     "name": "stdout",
     "output_type": "stream",
     "text": [
      "<class 'pandas.core.series.Series'>\n",
      "0        James Cameron\n",
      "1       Gore Verbinski\n",
      "2           Sam Mendes\n",
      "3    Christopher Nolan\n",
      "4          Doug Walker\n",
      "Name: director_name, dtype: object\n"
     ]
    }
   ],
   "source": [
    "movies_dir = movies['director_name']\n",
    "print(type(movies_dir))\n",
    "print(movies_dir.head())"
   ]
  },
  {
   "cell_type": "code",
   "execution_count": 39,
   "metadata": {},
   "outputs": [
    {
     "name": "stdout",
     "output_type": "stream",
     "text": [
      "<class 'pandas.core.series.Series'>\n"
     ]
    }
   ],
   "source": [
    "print(type(movies_dir))"
   ]
  },
  {
   "cell_type": "markdown",
   "metadata": {},
   "source": [
    "## Creating a smaller dataframe\n",
    "\n",
    "Let's create a new dataframe with columns: \n",
    "movie_title, duration, budget, gross, genres, director_name."
   ]
  },
  {
   "cell_type": "code",
   "execution_count": 40,
   "metadata": {},
   "outputs": [
    {
     "name": "stdout",
     "output_type": "stream",
     "text": [
      "                                         movie_title  duration       budget  \\\n",
      "0                                            Avatar      178.0  237000000.0   \n",
      "1          Pirates of the Caribbean: At World's End      169.0  300000000.0   \n",
      "2                                           Spectre      148.0  245000000.0   \n",
      "3                             The Dark Knight Rises      164.0  250000000.0   \n",
      "4  Star Wars: Episode VII - The Force Awakens    ...       NaN          NaN   \n",
      "\n",
      "         gross                           genres      director_name  \n",
      "0  760505847.0  Action|Adventure|Fantasy|Sci-Fi      James Cameron  \n",
      "1  309404152.0         Action|Adventure|Fantasy     Gore Verbinski  \n",
      "2  200074175.0        Action|Adventure|Thriller         Sam Mendes  \n",
      "3  448130642.0                  Action|Thriller  Christopher Nolan  \n",
      "4          NaN                      Documentary        Doug Walker  \n"
     ]
    }
   ],
   "source": [
    "newmovies = movies[['movie_title', 'duration', 'budget', 'gross', 'genres', 'director_name']]\n",
    "print(newmovies.head())"
   ]
  },
  {
   "cell_type": "code",
   "execution_count": 41,
   "metadata": {},
   "outputs": [
    {
     "name": "stdout",
     "output_type": "stream",
     "text": [
      "(5043, 6)\n"
     ]
    }
   ],
   "source": [
    "print(newmovies.shape)"
   ]
  },
  {
   "cell_type": "markdown",
   "metadata": {},
   "source": [
    "We can use sort_values() to sort a dataframe."
   ]
  },
  {
   "cell_type": "code",
   "execution_count": 42,
   "metadata": {},
   "outputs": [
    {
     "name": "stdout",
     "output_type": "stream",
     "text": [
      "               movie_title  duration      budget       gross  \\\n",
      "4605  The Helix... Loaded       97.0   1000000.0         NaN   \n",
      "4314               Circle       87.0         NaN         NaN   \n",
      "3497              Get Low      100.0   7500000.0   9176553.0   \n",
      "2182           Date Movie       85.0  20000000.0  48546578.0   \n",
      "2909          The Funeral       99.0  12500000.0   1227324.0   \n",
      "\n",
      "                                      genres    director_name  \n",
      "4605  Action|Adventure|Comedy|Fantasy|Sci-Fi    A. Raven Cruz  \n",
      "4314    Drama|Horror|Mystery|Sci-Fi|Thriller       Aaron Hann  \n",
      "3497                           Drama|Mystery  Aaron Schneider  \n",
      "2182                          Comedy|Romance    Aaron Seltzer  \n",
      "2909                             Crime|Drama     Abel Ferrara  \n"
     ]
    }
   ],
   "source": [
    "print(newmovies.sort_values('director_name').head())"
   ]
  },
  {
   "cell_type": "code",
   "execution_count": 43,
   "metadata": {},
   "outputs": [
    {
     "data": {
      "text/html": [
       "<div>\n",
       "<style scoped>\n",
       "    .dataframe tbody tr th:only-of-type {\n",
       "        vertical-align: middle;\n",
       "    }\n",
       "\n",
       "    .dataframe tbody tr th {\n",
       "        vertical-align: top;\n",
       "    }\n",
       "\n",
       "    .dataframe thead th {\n",
       "        text-align: right;\n",
       "    }\n",
       "</style>\n",
       "<table border=\"1\" class=\"dataframe\">\n",
       "  <thead>\n",
       "    <tr style=\"text-align: right;\">\n",
       "      <th></th>\n",
       "      <th>movie_title</th>\n",
       "      <th>duration</th>\n",
       "      <th>budget</th>\n",
       "      <th>gross</th>\n",
       "      <th>genres</th>\n",
       "      <th>director_name</th>\n",
       "    </tr>\n",
       "  </thead>\n",
       "  <tbody>\n",
       "    <tr>\n",
       "      <th>4605</th>\n",
       "      <td>The Helix... Loaded</td>\n",
       "      <td>97.0</td>\n",
       "      <td>1000000.0</td>\n",
       "      <td>NaN</td>\n",
       "      <td>Action|Adventure|Comedy|Fantasy|Sci-Fi</td>\n",
       "      <td>A. Raven Cruz</td>\n",
       "    </tr>\n",
       "    <tr>\n",
       "      <th>4314</th>\n",
       "      <td>Circle</td>\n",
       "      <td>87.0</td>\n",
       "      <td>NaN</td>\n",
       "      <td>NaN</td>\n",
       "      <td>Drama|Horror|Mystery|Sci-Fi|Thriller</td>\n",
       "      <td>Aaron Hann</td>\n",
       "    </tr>\n",
       "    <tr>\n",
       "      <th>3497</th>\n",
       "      <td>Get Low</td>\n",
       "      <td>100.0</td>\n",
       "      <td>7500000.0</td>\n",
       "      <td>9176553.0</td>\n",
       "      <td>Drama|Mystery</td>\n",
       "      <td>Aaron Schneider</td>\n",
       "    </tr>\n",
       "    <tr>\n",
       "      <th>2182</th>\n",
       "      <td>Date Movie</td>\n",
       "      <td>85.0</td>\n",
       "      <td>20000000.0</td>\n",
       "      <td>48546578.0</td>\n",
       "      <td>Comedy|Romance</td>\n",
       "      <td>Aaron Seltzer</td>\n",
       "    </tr>\n",
       "    <tr>\n",
       "      <th>2909</th>\n",
       "      <td>The Funeral</td>\n",
       "      <td>99.0</td>\n",
       "      <td>12500000.0</td>\n",
       "      <td>1227324.0</td>\n",
       "      <td>Crime|Drama</td>\n",
       "      <td>Abel Ferrara</td>\n",
       "    </tr>\n",
       "  </tbody>\n",
       "</table>\n",
       "</div>"
      ],
      "text/plain": [
       "               movie_title  duration      budget       gross  \\\n",
       "4605  The Helix... Loaded       97.0   1000000.0         NaN   \n",
       "4314               Circle       87.0         NaN         NaN   \n",
       "3497              Get Low      100.0   7500000.0   9176553.0   \n",
       "2182           Date Movie       85.0  20000000.0  48546578.0   \n",
       "2909          The Funeral       99.0  12500000.0   1227324.0   \n",
       "\n",
       "                                      genres    director_name  \n",
       "4605  Action|Adventure|Comedy|Fantasy|Sci-Fi    A. Raven Cruz  \n",
       "4314    Drama|Horror|Mystery|Sci-Fi|Thriller       Aaron Hann  \n",
       "3497                           Drama|Mystery  Aaron Schneider  \n",
       "2182                          Comedy|Romance    Aaron Seltzer  \n",
       "2909                             Crime|Drama     Abel Ferrara  "
      ]
     },
     "execution_count": 43,
     "metadata": {},
     "output_type": "execute_result"
    }
   ],
   "source": [
    "newmovies.sort_values('director_name').head()"
   ]
  },
  {
   "cell_type": "markdown",
   "metadata": {},
   "source": [
    "Notice that not all values in our data frame are finite. So, now we want to drop \n",
    "rows that have NaN in any column. "
   ]
  },
  {
   "cell_type": "markdown",
   "metadata": {},
   "source": [
    "## Data Transformation"
   ]
  },
  {
   "cell_type": "markdown",
   "metadata": {},
   "source": [
    "### Mutability "
   ]
  },
  {
   "cell_type": "code",
   "execution_count": 44,
   "metadata": {},
   "outputs": [
    {
     "name": "stdout",
     "output_type": "stream",
     "text": [
      "[12, 20]\n",
      "[12, 20]\n",
      "++++++++++++++\n",
      "[12, 20, -1000]\n",
      "[12, 20, -1000]\n"
     ]
    }
   ],
   "source": [
    "# Example of shallow copy\n",
    "\n",
    "listA = [12, 20]\n",
    "\n",
    "listB = listA # shallow copy\n",
    "\n",
    "print(listA)\n",
    "print(listB)\n",
    "\n",
    "\n",
    "print(\"++++++++++++++\")\n",
    "listB.append(-1000)\n",
    "\n",
    "print(listA)\n",
    "print(listB)"
   ]
  },
  {
   "cell_type": "code",
   "execution_count": 45,
   "metadata": {},
   "outputs": [
    {
     "name": "stdout",
     "output_type": "stream",
     "text": [
      "[12, 20]\n",
      "[12, 20]\n",
      "++++++++++++++\n",
      "[12, 20]\n",
      "[12, 20, -3000]\n"
     ]
    }
   ],
   "source": [
    "# Example of deep copy\n",
    "import copy\n",
    "\n",
    "listA2 = [12, 20]\n",
    "\n",
    "listB2 = listA2.copy() # deep copy\n",
    "\n",
    "print(listA2)\n",
    "print(listB2)\n",
    "\n",
    "\n",
    "print(\"++++++++++++++\")\n",
    "listB2.append(-3000)\n",
    "\n",
    "print(listA2)\n",
    "print(listB2)"
   ]
  },
  {
   "cell_type": "markdown",
   "metadata": {},
   "source": [
    "### Creating a deep copy of newmovies\n",
    "\n",
    "Dropping rows that have NaN anywhere"
   ]
  },
  {
   "cell_type": "code",
   "execution_count": 46,
   "metadata": {},
   "outputs": [],
   "source": [
    "newmovies1 = newmovies.copy(deep=True) # making a deep copy"
   ]
  },
  {
   "cell_type": "code",
   "execution_count": 47,
   "metadata": {},
   "outputs": [],
   "source": [
    "newnew = newmovies1.copy(deep=False) "
   ]
  },
  {
   "cell_type": "code",
   "execution_count": 48,
   "metadata": {},
   "outputs": [],
   "source": [
    "newmovies1.dropna(how='any', inplace=True) \n",
    "# dropping rows that have NaN anywhere inplace, so the newmovies1 gets modified"
   ]
  },
  {
   "cell_type": "code",
   "execution_count": 49,
   "metadata": {},
   "outputs": [
    {
     "name": "stdout",
     "output_type": "stream",
     "text": [
      "                                 movie_title  duration       budget  \\\n",
      "0                                    Avatar      178.0  237000000.0   \n",
      "1  Pirates of the Caribbean: At World's End      169.0  300000000.0   \n",
      "2                                   Spectre      148.0  245000000.0   \n",
      "3                     The Dark Knight Rises      164.0  250000000.0   \n",
      "5                               John Carter      132.0  263700000.0   \n",
      "\n",
      "         gross                           genres      director_name  \n",
      "0  760505847.0  Action|Adventure|Fantasy|Sci-Fi      James Cameron  \n",
      "1  309404152.0         Action|Adventure|Fantasy     Gore Verbinski  \n",
      "2  200074175.0        Action|Adventure|Thriller         Sam Mendes  \n",
      "3  448130642.0                  Action|Thriller  Christopher Nolan  \n",
      "5   73058679.0          Action|Adventure|Sci-Fi     Andrew Stanton  \n",
      "(3890, 6)\n"
     ]
    }
   ],
   "source": [
    "print(newmovies1.head())\n",
    "print(newmovies1.shape)"
   ]
  },
  {
   "cell_type": "markdown",
   "metadata": {},
   "source": [
    "#### Note after dropping rows with NaN in any column\n",
    "\n",
    "Total rows = 5043\n",
    "after the dropna with any, total rows = 3890\n",
    "\n",
    "Rows that are dropped = (5043-3890) = 1153\n",
    "\n",
    "So, around 20% rows got dropped.  "
   ]
  },
  {
   "cell_type": "markdown",
   "metadata": {},
   "source": [
    "#### Applying dropna to a subset"
   ]
  },
  {
   "cell_type": "code",
   "execution_count": 50,
   "metadata": {},
   "outputs": [],
   "source": [
    "newmovies2 = newmovies.copy(deep=True)\n",
    "newmovies2.dropna(subset=['duration','budget'], how='any', inplace=True)"
   ]
  },
  {
   "cell_type": "code",
   "execution_count": 51,
   "metadata": {},
   "outputs": [
    {
     "name": "stdout",
     "output_type": "stream",
     "text": [
      "                                 movie_title  duration       budget  \\\n",
      "0                                    Avatar      178.0  237000000.0   \n",
      "1  Pirates of the Caribbean: At World's End      169.0  300000000.0   \n",
      "2                                   Spectre      148.0  245000000.0   \n",
      "3                     The Dark Knight Rises      164.0  250000000.0   \n",
      "5                               John Carter      132.0  263700000.0   \n",
      "\n",
      "         gross                           genres      director_name  \n",
      "0  760505847.0  Action|Adventure|Fantasy|Sci-Fi      James Cameron  \n",
      "1  309404152.0         Action|Adventure|Fantasy     Gore Verbinski  \n",
      "2  200074175.0        Action|Adventure|Thriller         Sam Mendes  \n",
      "3  448130642.0                  Action|Thriller  Christopher Nolan  \n",
      "5   73058679.0          Action|Adventure|Sci-Fi     Andrew Stanton  \n"
     ]
    }
   ],
   "source": [
    "print(newmovies2.head())"
   ]
  },
  {
   "cell_type": "code",
   "execution_count": 52,
   "metadata": {},
   "outputs": [
    {
     "data": {
      "text/html": [
       "<div>\n",
       "<style scoped>\n",
       "    .dataframe tbody tr th:only-of-type {\n",
       "        vertical-align: middle;\n",
       "    }\n",
       "\n",
       "    .dataframe tbody tr th {\n",
       "        vertical-align: top;\n",
       "    }\n",
       "\n",
       "    .dataframe thead th {\n",
       "        text-align: right;\n",
       "    }\n",
       "</style>\n",
       "<table border=\"1\" class=\"dataframe\">\n",
       "  <thead>\n",
       "    <tr style=\"text-align: right;\">\n",
       "      <th></th>\n",
       "      <th>movie_title</th>\n",
       "      <th>duration</th>\n",
       "      <th>budget</th>\n",
       "      <th>gross</th>\n",
       "      <th>genres</th>\n",
       "      <th>director_name</th>\n",
       "    </tr>\n",
       "  </thead>\n",
       "  <tbody>\n",
       "    <tr>\n",
       "      <th>0</th>\n",
       "      <td>Avatar</td>\n",
       "      <td>178.0</td>\n",
       "      <td>237000000.0</td>\n",
       "      <td>760505847.0</td>\n",
       "      <td>Action|Adventure|Fantasy|Sci-Fi</td>\n",
       "      <td>James Cameron</td>\n",
       "    </tr>\n",
       "    <tr>\n",
       "      <th>1</th>\n",
       "      <td>Pirates of the Caribbean: At World's End</td>\n",
       "      <td>169.0</td>\n",
       "      <td>300000000.0</td>\n",
       "      <td>309404152.0</td>\n",
       "      <td>Action|Adventure|Fantasy</td>\n",
       "      <td>Gore Verbinski</td>\n",
       "    </tr>\n",
       "    <tr>\n",
       "      <th>2</th>\n",
       "      <td>Spectre</td>\n",
       "      <td>148.0</td>\n",
       "      <td>245000000.0</td>\n",
       "      <td>200074175.0</td>\n",
       "      <td>Action|Adventure|Thriller</td>\n",
       "      <td>Sam Mendes</td>\n",
       "    </tr>\n",
       "    <tr>\n",
       "      <th>3</th>\n",
       "      <td>The Dark Knight Rises</td>\n",
       "      <td>164.0</td>\n",
       "      <td>250000000.0</td>\n",
       "      <td>448130642.0</td>\n",
       "      <td>Action|Thriller</td>\n",
       "      <td>Christopher Nolan</td>\n",
       "    </tr>\n",
       "    <tr>\n",
       "      <th>5</th>\n",
       "      <td>John Carter</td>\n",
       "      <td>132.0</td>\n",
       "      <td>263700000.0</td>\n",
       "      <td>73058679.0</td>\n",
       "      <td>Action|Adventure|Sci-Fi</td>\n",
       "      <td>Andrew Stanton</td>\n",
       "    </tr>\n",
       "    <tr>\n",
       "      <th>...</th>\n",
       "      <td>...</td>\n",
       "      <td>...</td>\n",
       "      <td>...</td>\n",
       "      <td>...</td>\n",
       "      <td>...</td>\n",
       "      <td>...</td>\n",
       "    </tr>\n",
       "    <tr>\n",
       "      <th>5035</th>\n",
       "      <td>El Mariachi</td>\n",
       "      <td>81.0</td>\n",
       "      <td>7000.0</td>\n",
       "      <td>2040920.0</td>\n",
       "      <td>Action|Crime|Drama|Romance|Thriller</td>\n",
       "      <td>Robert Rodriguez</td>\n",
       "    </tr>\n",
       "    <tr>\n",
       "      <th>5036</th>\n",
       "      <td>The Mongol King</td>\n",
       "      <td>84.0</td>\n",
       "      <td>3250.0</td>\n",
       "      <td>NaN</td>\n",
       "      <td>Crime|Drama</td>\n",
       "      <td>Anthony Vallone</td>\n",
       "    </tr>\n",
       "    <tr>\n",
       "      <th>5037</th>\n",
       "      <td>Newlyweds</td>\n",
       "      <td>95.0</td>\n",
       "      <td>9000.0</td>\n",
       "      <td>4584.0</td>\n",
       "      <td>Comedy|Drama</td>\n",
       "      <td>Edward Burns</td>\n",
       "    </tr>\n",
       "    <tr>\n",
       "      <th>5040</th>\n",
       "      <td>A Plague So Pleasant</td>\n",
       "      <td>76.0</td>\n",
       "      <td>1400.0</td>\n",
       "      <td>NaN</td>\n",
       "      <td>Drama|Horror|Thriller</td>\n",
       "      <td>Benjamin Roberds</td>\n",
       "    </tr>\n",
       "    <tr>\n",
       "      <th>5042</th>\n",
       "      <td>My Date with Drew</td>\n",
       "      <td>90.0</td>\n",
       "      <td>1100.0</td>\n",
       "      <td>85222.0</td>\n",
       "      <td>Documentary</td>\n",
       "      <td>Jon Gunn</td>\n",
       "    </tr>\n",
       "  </tbody>\n",
       "</table>\n",
       "<p>4546 rows × 6 columns</p>\n",
       "</div>"
      ],
      "text/plain": [
       "                                    movie_title  duration       budget  \\\n",
       "0                                       Avatar      178.0  237000000.0   \n",
       "1     Pirates of the Caribbean: At World's End      169.0  300000000.0   \n",
       "2                                      Spectre      148.0  245000000.0   \n",
       "3                        The Dark Knight Rises      164.0  250000000.0   \n",
       "5                                  John Carter      132.0  263700000.0   \n",
       "...                                         ...       ...          ...   \n",
       "5035                               El Mariachi       81.0       7000.0   \n",
       "5036                           The Mongol King       84.0       3250.0   \n",
       "5037                                 Newlyweds       95.0       9000.0   \n",
       "5040                      A Plague So Pleasant       76.0       1400.0   \n",
       "5042                         My Date with Drew       90.0       1100.0   \n",
       "\n",
       "            gross                               genres      director_name  \n",
       "0     760505847.0      Action|Adventure|Fantasy|Sci-Fi      James Cameron  \n",
       "1     309404152.0             Action|Adventure|Fantasy     Gore Verbinski  \n",
       "2     200074175.0            Action|Adventure|Thriller         Sam Mendes  \n",
       "3     448130642.0                      Action|Thriller  Christopher Nolan  \n",
       "5      73058679.0              Action|Adventure|Sci-Fi     Andrew Stanton  \n",
       "...           ...                                  ...                ...  \n",
       "5035    2040920.0  Action|Crime|Drama|Romance|Thriller   Robert Rodriguez  \n",
       "5036          NaN                          Crime|Drama    Anthony Vallone  \n",
       "5037       4584.0                         Comedy|Drama       Edward Burns  \n",
       "5040          NaN                Drama|Horror|Thriller   Benjamin Roberds  \n",
       "5042      85222.0                          Documentary           Jon Gunn  \n",
       "\n",
       "[4546 rows x 6 columns]"
      ]
     },
     "execution_count": 52,
     "metadata": {},
     "output_type": "execute_result"
    }
   ],
   "source": [
    "newmovies2"
   ]
  },
  {
   "cell_type": "code",
   "execution_count": 53,
   "metadata": {},
   "outputs": [
    {
     "name": "stdout",
     "output_type": "stream",
     "text": [
      "(4546, 6)\n"
     ]
    }
   ],
   "source": [
    "print(newmovies2.shape)"
   ]
  },
  {
   "cell_type": "markdown",
   "metadata": {},
   "source": [
    "#### Note after dropna with any on the subset duration and budget\n",
    "\n",
    "Total rows = 5043\n",
    "after this transformation, rows remianing is = 4546\n",
    "\n",
    "rows dropped = 5043 - 4546\n",
    "\n",
    "Close to ten percent."
   ]
  },
  {
   "cell_type": "markdown",
   "metadata": {},
   "source": [
    "#### Applying dropna with all to a subset "
   ]
  },
  {
   "cell_type": "code",
   "execution_count": 54,
   "metadata": {},
   "outputs": [],
   "source": [
    "newmoviesA = newmovies.copy(deep=True) # making a deep copy"
   ]
  },
  {
   "cell_type": "code",
   "execution_count": 55,
   "metadata": {},
   "outputs": [],
   "source": [
    "newmoviesA.dropna(subset=['duration','budget'], how='all', inplace=True)"
   ]
  },
  {
   "cell_type": "code",
   "execution_count": 56,
   "metadata": {},
   "outputs": [
    {
     "name": "stdout",
     "output_type": "stream",
     "text": [
      "(5033, 6)\n"
     ]
    }
   ],
   "source": [
    "print(newmoviesA.shape)"
   ]
  },
  {
   "cell_type": "code",
   "execution_count": 57,
   "metadata": {},
   "outputs": [],
   "source": [
    "newmoviesAA = newmovies.copy(deep=True)"
   ]
  },
  {
   "cell_type": "code",
   "execution_count": 58,
   "metadata": {},
   "outputs": [],
   "source": [
    "newmoviesAA.dropna(subset=['duration','budget'], how='any', inplace=True)"
   ]
  },
  {
   "cell_type": "code",
   "execution_count": 59,
   "metadata": {},
   "outputs": [
    {
     "name": "stdout",
     "output_type": "stream",
     "text": [
      "(4546, 6)\n"
     ]
    }
   ],
   "source": [
    "print(newmoviesAA.shape)"
   ]
  },
  {
   "cell_type": "markdown",
   "metadata": {},
   "source": [
    "### Creating a dataframe from the original dataframe with a condition"
   ]
  },
  {
   "cell_type": "code",
   "execution_count": 60,
   "metadata": {},
   "outputs": [
    {
     "data": {
      "text/plain": [
       "0        True\n",
       "1        True\n",
       "2        True\n",
       "3        True\n",
       "4       False\n",
       "        ...  \n",
       "5038    False\n",
       "5039    False\n",
       "5040    False\n",
       "5041    False\n",
       "5042    False\n",
       "Name: gross, Length: 5043, dtype: bool"
      ]
     },
     "execution_count": 60,
     "metadata": {},
     "output_type": "execute_result"
    }
   ],
   "source": [
    "newmovies['gross']>350000"
   ]
  },
  {
   "cell_type": "code",
   "execution_count": 61,
   "metadata": {},
   "outputs": [
    {
     "name": "stdout",
     "output_type": "stream",
     "text": [
      "(3759, 6)\n",
      "                                 movie_title  duration       budget  \\\n",
      "0                                    Avatar      178.0  237000000.0   \n",
      "1  Pirates of the Caribbean: At World's End      169.0  300000000.0   \n",
      "2                                   Spectre      148.0  245000000.0   \n",
      "3                     The Dark Knight Rises      164.0  250000000.0   \n",
      "5                               John Carter      132.0  263700000.0   \n",
      "\n",
      "         gross                           genres      director_name  \n",
      "0  760505847.0  Action|Adventure|Fantasy|Sci-Fi      James Cameron  \n",
      "1  309404152.0         Action|Adventure|Fantasy     Gore Verbinski  \n",
      "2  200074175.0        Action|Adventure|Thriller         Sam Mendes  \n",
      "3  448130642.0                  Action|Thriller  Christopher Nolan  \n",
      "5   73058679.0          Action|Adventure|Sci-Fi     Andrew Stanton  \n"
     ]
    }
   ],
   "source": [
    "new_gross = newmovies[newmovies['gross']>350000] # condition\n",
    "print(new_gross.shape)\n",
    "print(new_gross.head())"
   ]
  },
  {
   "cell_type": "code",
   "execution_count": 62,
   "metadata": {},
   "outputs": [
    {
     "name": "stdout",
     "output_type": "stream",
     "text": [
      "(176, 6)\n",
      "             movie_title  duration       budget     gross  \\\n",
      "91    The Polar Express      100.0  165000000.0  665426.0   \n",
      "477             Déjà Vu      117.0          NaN  821997.0   \n",
      "636               Agora      141.0   70000000.0  617840.0   \n",
      "1056              Earth      110.0          NaN  528972.0   \n",
      "1316              Delgo       94.0   40000000.0  511920.0   \n",
      "\n",
      "                                          genres       director_name  \n",
      "91            Adventure|Animation|Family|Fantasy     Robert Zemeckis  \n",
      "477                                Drama|Romance        Henry Jaglom  \n",
      "636              Adventure|Drama|History|Romance  Alejandro Amenábar  \n",
      "1056                           Drama|Romance|War         Deepa Mehta  \n",
      "1316  Adventure|Animation|Comedy|Fantasy|Romance       Marc F. Adler  \n"
     ]
    }
   ],
   "source": [
    "new_gross_2 = newmovies[(newmovies['gross']>350000) & (newmovies['gross']<1000000)] # condition\n",
    "print(new_gross_2.shape)\n",
    "print(new_gross_2.head())"
   ]
  },
  {
   "cell_type": "code",
   "execution_count": 63,
   "metadata": {},
   "outputs": [
    {
     "data": {
      "text/plain": [
       "'\\nIn-class activity: Create a dataframe called new_budget where the budget is greater than 400000 and is less than a billion.\\n'"
      ]
     },
     "execution_count": 63,
     "metadata": {},
     "output_type": "execute_result"
    }
   ],
   "source": [
    "\"\"\"\n",
    "In-class activity: Create a dataframe called new_budget where the budget is greater than 400000 and is less than a billion.\n",
    "\"\"\""
   ]
  },
  {
   "cell_type": "markdown",
   "metadata": {},
   "source": [
    "## Statistical Analysis"
   ]
  },
  {
   "cell_type": "code",
   "execution_count": 64,
   "metadata": {},
   "outputs": [
    {
     "name": "stdout",
     "output_type": "stream",
     "text": [
      "(3890, 6)\n",
      "          duration        budget         gross\n",
      "count  3890.000000  3.890000e+03  3.890000e+03\n",
      "mean    109.896401  4.520391e+07  5.106809e+07\n",
      "std      22.706775  2.224177e+08  6.980668e+07\n",
      "min      34.000000  2.180000e+02  1.620000e+02\n",
      "25%      95.000000  1.000000e+07  6.844452e+06\n",
      "50%     106.000000  2.400000e+07  2.799697e+07\n",
      "75%     120.000000  5.000000e+07  6.540649e+07\n",
      "max     330.000000  1.221550e+10  7.605058e+08\n"
     ]
    }
   ],
   "source": [
    "print(newmovies1.shape)\n",
    "\n",
    "print(newmovies1.describe())"
   ]
  },
  {
   "cell_type": "markdown",
   "metadata": {},
   "source": [
    "We can find how many values in each column of newmovies has NAN using isnull()."
   ]
  },
  {
   "cell_type": "code",
   "execution_count": 65,
   "metadata": {},
   "outputs": [
    {
     "name": "stdout",
     "output_type": "stream",
     "text": [
      "movie_title        0\n",
      "duration          15\n",
      "budget           492\n",
      "gross            884\n",
      "genres             0\n",
      "director_name    104\n",
      "dtype: int64\n"
     ]
    }
   ],
   "source": [
    "print(newmovies.isnull().sum())"
   ]
  },
  {
   "cell_type": "code",
   "execution_count": 66,
   "metadata": {},
   "outputs": [
    {
     "name": "stdout",
     "output_type": "stream",
     "text": [
      "          duration        budget         gross\n",
      "count  5028.000000  4.551000e+03  4.159000e+03\n",
      "mean    107.201074  3.975262e+07  4.846841e+07\n",
      "std      25.197441  2.061149e+08  6.845299e+07\n",
      "min       7.000000  2.180000e+02  1.620000e+02\n",
      "25%      93.000000  6.000000e+06  5.340988e+06\n",
      "50%     103.000000  2.000000e+07  2.551750e+07\n",
      "75%     118.000000  4.500000e+07  6.230944e+07\n",
      "max     511.000000  1.221550e+10  7.605058e+08\n"
     ]
    }
   ],
   "source": [
    "print(newmovies.describe())"
   ]
  },
  {
   "cell_type": "markdown",
   "metadata": {},
   "source": [
    "### Filling NaN values \n",
    "\n",
    "First in duration and then in gross "
   ]
  },
  {
   "cell_type": "code",
   "execution_count": 67,
   "metadata": {},
   "outputs": [
    {
     "name": "stdout",
     "output_type": "stream",
     "text": [
      "movie_title        0\n",
      "duration          15\n",
      "budget           492\n",
      "gross            884\n",
      "genres             0\n",
      "director_name    104\n",
      "dtype: int64\n",
      "          duration        budget         gross\n",
      "count  5028.000000  4.551000e+03  4.159000e+03\n",
      "mean    107.201074  3.975262e+07  4.846841e+07\n",
      "std      25.197441  2.061149e+08  6.845299e+07\n",
      "min       7.000000  2.180000e+02  1.620000e+02\n",
      "25%      93.000000  6.000000e+06  5.340988e+06\n",
      "50%     103.000000  2.000000e+07  2.551750e+07\n",
      "75%     118.000000  4.500000e+07  6.230944e+07\n",
      "max     511.000000  1.221550e+10  7.605058e+08\n",
      "+++++++++++++++++++\n",
      "Isnull after filling the NAN in the Duration column\n",
      "movie_title        0\n",
      "duration           0\n",
      "budget           492\n",
      "gross            884\n",
      "genres             0\n",
      "director_name    104\n",
      "dtype: int64\n",
      "          duration        budget         gross\n",
      "count  5043.000000  4.551000e+03  4.159000e+03\n",
      "mean    107.149911  3.975262e+07  4.846841e+07\n",
      "std      25.177366  2.061149e+08  6.845299e+07\n",
      "min       7.000000  2.180000e+02  1.620000e+02\n",
      "25%      93.000000  6.000000e+06  5.340988e+06\n",
      "50%     103.000000  2.000000e+07  2.551750e+07\n",
      "75%     118.000000  4.500000e+07  6.230944e+07\n",
      "max     511.000000  1.221550e+10  7.605058e+08\n"
     ]
    }
   ],
   "source": [
    "newmovies3 = newmovies.copy(deep=True)\n",
    "\n",
    "print(newmovies3.isnull().sum())\n",
    "\n",
    "print(newmovies3.describe())\n",
    "\n",
    "print(\"+++++++++++++++++++\")\n",
    "print(\"Isnull after filling the NAN in the Duration column\")\n",
    "\n",
    "newmovies3['duration'].fillna(value=90, inplace=True)\n",
    "\n",
    "print(newmovies3.isnull().sum())\n",
    "print(newmovies3.describe())"
   ]
  },
  {
   "cell_type": "code",
   "execution_count": 68,
   "metadata": {},
   "outputs": [
    {
     "name": "stdout",
     "output_type": "stream",
     "text": [
      "Isnull after filling the NAN in the gross column\n",
      "movie_title        0\n",
      "duration           0\n",
      "budget           492\n",
      "gross              0\n",
      "genres             0\n",
      "director_name    104\n",
      "dtype: int64\n",
      "          duration        budget         gross\n",
      "count  5043.000000  4.551000e+03  5.043000e+03\n",
      "mean    107.149911  3.975262e+07  4.005991e+07\n",
      "std      25.177366  2.061149e+08  6.478400e+07\n",
      "min       7.000000  2.180000e+02  1.620000e+02\n",
      "25%      93.000000  6.000000e+06  5.000000e+05\n",
      "50%     103.000000  2.000000e+07  1.527968e+07\n",
      "75%     118.000000  4.500000e+07  5.135707e+07\n",
      "max     511.000000  1.221550e+10  7.605058e+08\n"
     ]
    }
   ],
   "source": [
    "print(\"Isnull after filling the NAN in the gross column\")\n",
    "newmovies3['gross'].fillna(value=500000, inplace=True)\n",
    "print(newmovies3.isnull().sum())\n",
    "print(newmovies3.describe())"
   ]
  },
  {
   "cell_type": "code",
   "execution_count": 68,
   "metadata": {},
   "outputs": [
    {
     "name": "stdout",
     "output_type": "stream",
     "text": [
      "          duration        budget         gross\n",
      "count  5043.000000  4.551000e+03  4.159000e+03\n",
      "mean    107.149911  3.975262e+07  4.846841e+07\n",
      "std      25.177366  2.061149e+08  6.845299e+07\n",
      "min       7.000000  2.180000e+02  1.620000e+02\n",
      "25%      93.000000  6.000000e+06  5.340988e+06\n",
      "50%     103.000000  2.000000e+07  2.551750e+07\n",
      "75%     118.000000  4.500000e+07  6.230944e+07\n",
      "max     511.000000  1.221550e+10  7.605058e+08\n"
     ]
    }
   ],
   "source": [
    "print(newmovies3.describe())"
   ]
  },
  {
   "cell_type": "code",
   "execution_count": 69,
   "metadata": {},
   "outputs": [
    {
     "name": "stdout",
     "output_type": "stream",
     "text": [
      "          duration        budget         gross\n",
      "count  5028.000000  4.551000e+03  4.159000e+03\n",
      "mean    107.201074  3.975262e+07  4.846841e+07\n",
      "std      25.197441  2.061149e+08  6.845299e+07\n",
      "min       7.000000  2.180000e+02  1.620000e+02\n",
      "25%      93.000000  6.000000e+06  5.340988e+06\n",
      "50%     103.000000  2.000000e+07  2.551750e+07\n",
      "75%     118.000000  4.500000e+07  6.230944e+07\n",
      "max     511.000000  1.221550e+10  7.605058e+08\n"
     ]
    }
   ],
   "source": [
    "print(newmovies.describe())"
   ]
  },
  {
   "cell_type": "code",
   "execution_count": 70,
   "metadata": {},
   "outputs": [
    {
     "name": "stdout",
     "output_type": "stream",
     "text": [
      "107.2010739856802\n"
     ]
    }
   ],
   "source": [
    "# mean of a column in a dataframe\n",
    "\n",
    "print(newmovies[\"duration\"].mean())"
   ]
  },
  {
   "cell_type": "code",
   "execution_count": 71,
   "metadata": {},
   "outputs": [
    {
     "data": {
      "text/plain": [
       "'\\nIn-class activity: From the movies data frame, create a new data \\nframe that comprises of movie title, duration, budget and gross. \\n1) Find the number of NaN in gross. \\n2) Replace NaN in gross with the mean of gross.\\n'"
      ]
     },
     "execution_count": 71,
     "metadata": {},
     "output_type": "execute_result"
    }
   ],
   "source": [
    "\"\"\"\n",
    "In-class activity: From the movies data frame, create a new data \n",
    "frame that comprises of movie title, duration, budget and gross. \n",
    "1) Find the number of NaN in gross.\n",
    "2) Replace NaN in gross with the mean of gross.\n",
    "\"\"\""
   ]
  },
  {
   "cell_type": "markdown",
   "metadata": {},
   "source": [
    "### Reading content from a website"
   ]
  },
  {
   "cell_type": "code",
   "execution_count": 72,
   "metadata": {},
   "outputs": [],
   "source": [
    "url = \"https://raw.githubusercontent.com/cs109/2014_data/master/countries.csv\"\n",
    "countries = pd.read_csv(url)"
   ]
  },
  {
   "cell_type": "code",
   "execution_count": 73,
   "metadata": {},
   "outputs": [
    {
     "name": "stdout",
     "output_type": "stream",
     "text": [
      "    Country  Region\n",
      "0   Algeria  AFRICA\n",
      "1    Angola  AFRICA\n",
      "2     Benin  AFRICA\n",
      "3  Botswana  AFRICA\n",
      "4   Burkina  AFRICA\n",
      "(194, 2) 194\n"
     ]
    }
   ],
   "source": [
    "print(countries.head())\n",
    "print(countries.shape, countries.shape[0])"
   ]
  },
  {
   "cell_type": "code",
   "execution_count": 74,
   "metadata": {},
   "outputs": [
    {
     "name": "stdout",
     "output_type": "stream",
     "text": [
      "        Country  Region\n",
      "count       194     194\n",
      "unique      194       6\n",
      "top     Algeria  AFRICA\n",
      "freq          1      54\n"
     ]
    }
   ],
   "source": [
    "print(countries.describe())"
   ]
  },
  {
   "cell_type": "code",
   "execution_count": 75,
   "metadata": {},
   "outputs": [
    {
     "name": "stdout",
     "output_type": "stream",
     "text": [
      "<class 'pandas.core.frame.DataFrame'>\n"
     ]
    }
   ],
   "source": [
    "print(type(countries))"
   ]
  },
  {
   "cell_type": "markdown",
   "metadata": {},
   "source": [
    "#### Another Example"
   ]
  },
  {
   "cell_type": "code",
   "execution_count": 76,
   "metadata": {},
   "outputs": [
    {
     "data": {
      "text/html": [
       "<div>\n",
       "<style scoped>\n",
       "    .dataframe tbody tr th:only-of-type {\n",
       "        vertical-align: middle;\n",
       "    }\n",
       "\n",
       "    .dataframe tbody tr th {\n",
       "        vertical-align: top;\n",
       "    }\n",
       "\n",
       "    .dataframe thead th {\n",
       "        text-align: right;\n",
       "    }\n",
       "</style>\n",
       "<table border=\"1\" class=\"dataframe\">\n",
       "  <thead>\n",
       "    <tr style=\"text-align: right;\">\n",
       "      <th></th>\n",
       "      <th>5.1</th>\n",
       "      <th>3.5</th>\n",
       "      <th>1.4</th>\n",
       "      <th>0.2</th>\n",
       "      <th>Iris-setosa</th>\n",
       "    </tr>\n",
       "  </thead>\n",
       "  <tbody>\n",
       "    <tr>\n",
       "      <th>0</th>\n",
       "      <td>4.9</td>\n",
       "      <td>3.0</td>\n",
       "      <td>1.4</td>\n",
       "      <td>0.2</td>\n",
       "      <td>Iris-setosa</td>\n",
       "    </tr>\n",
       "    <tr>\n",
       "      <th>1</th>\n",
       "      <td>4.7</td>\n",
       "      <td>3.2</td>\n",
       "      <td>1.3</td>\n",
       "      <td>0.2</td>\n",
       "      <td>Iris-setosa</td>\n",
       "    </tr>\n",
       "    <tr>\n",
       "      <th>2</th>\n",
       "      <td>4.6</td>\n",
       "      <td>3.1</td>\n",
       "      <td>1.5</td>\n",
       "      <td>0.2</td>\n",
       "      <td>Iris-setosa</td>\n",
       "    </tr>\n",
       "    <tr>\n",
       "      <th>3</th>\n",
       "      <td>5.0</td>\n",
       "      <td>3.6</td>\n",
       "      <td>1.4</td>\n",
       "      <td>0.2</td>\n",
       "      <td>Iris-setosa</td>\n",
       "    </tr>\n",
       "    <tr>\n",
       "      <th>4</th>\n",
       "      <td>5.4</td>\n",
       "      <td>3.9</td>\n",
       "      <td>1.7</td>\n",
       "      <td>0.4</td>\n",
       "      <td>Iris-setosa</td>\n",
       "    </tr>\n",
       "  </tbody>\n",
       "</table>\n",
       "</div>"
      ],
      "text/plain": [
       "   5.1  3.5  1.4  0.2  Iris-setosa\n",
       "0  4.9  3.0  1.4  0.2  Iris-setosa\n",
       "1  4.7  3.2  1.3  0.2  Iris-setosa\n",
       "2  4.6  3.1  1.5  0.2  Iris-setosa\n",
       "3  5.0  3.6  1.4  0.2  Iris-setosa\n",
       "4  5.4  3.9  1.7  0.4  Iris-setosa"
      ]
     },
     "execution_count": 76,
     "metadata": {},
     "output_type": "execute_result"
    }
   ],
   "source": [
    "# Webpage URL\n",
    "import pandas as pd\n",
    "\n",
    "url = \"https://archive.ics.uci.edu/ml/machine-learning-databases/iris/iris.data\"\n",
    "\n",
    "# Read data from URL\n",
    "iris_data = pd.read_csv(url)\n",
    "\n",
    "iris_data.head() "
   ]
  },
  {
   "cell_type": "code",
   "execution_count": 77,
   "metadata": {},
   "outputs": [
    {
     "data": {
      "text/html": [
       "<div>\n",
       "<style scoped>\n",
       "    .dataframe tbody tr th:only-of-type {\n",
       "        vertical-align: middle;\n",
       "    }\n",
       "\n",
       "    .dataframe tbody tr th {\n",
       "        vertical-align: top;\n",
       "    }\n",
       "\n",
       "    .dataframe thead th {\n",
       "        text-align: right;\n",
       "    }\n",
       "</style>\n",
       "<table border=\"1\" class=\"dataframe\">\n",
       "  <thead>\n",
       "    <tr style=\"text-align: right;\">\n",
       "      <th></th>\n",
       "      <th>0</th>\n",
       "      <th>1</th>\n",
       "      <th>2</th>\n",
       "      <th>3</th>\n",
       "      <th>4</th>\n",
       "    </tr>\n",
       "  </thead>\n",
       "  <tbody>\n",
       "    <tr>\n",
       "      <th>0</th>\n",
       "      <td>5.1</td>\n",
       "      <td>3.5</td>\n",
       "      <td>1.4</td>\n",
       "      <td>0.2</td>\n",
       "      <td>Iris-setosa</td>\n",
       "    </tr>\n",
       "    <tr>\n",
       "      <th>1</th>\n",
       "      <td>4.9</td>\n",
       "      <td>3.0</td>\n",
       "      <td>1.4</td>\n",
       "      <td>0.2</td>\n",
       "      <td>Iris-setosa</td>\n",
       "    </tr>\n",
       "    <tr>\n",
       "      <th>2</th>\n",
       "      <td>4.7</td>\n",
       "      <td>3.2</td>\n",
       "      <td>1.3</td>\n",
       "      <td>0.2</td>\n",
       "      <td>Iris-setosa</td>\n",
       "    </tr>\n",
       "    <tr>\n",
       "      <th>3</th>\n",
       "      <td>4.6</td>\n",
       "      <td>3.1</td>\n",
       "      <td>1.5</td>\n",
       "      <td>0.2</td>\n",
       "      <td>Iris-setosa</td>\n",
       "    </tr>\n",
       "    <tr>\n",
       "      <th>4</th>\n",
       "      <td>5.0</td>\n",
       "      <td>3.6</td>\n",
       "      <td>1.4</td>\n",
       "      <td>0.2</td>\n",
       "      <td>Iris-setosa</td>\n",
       "    </tr>\n",
       "  </tbody>\n",
       "</table>\n",
       "</div>"
      ],
      "text/plain": [
       "     0    1    2    3            4\n",
       "0  5.1  3.5  1.4  0.2  Iris-setosa\n",
       "1  4.9  3.0  1.4  0.2  Iris-setosa\n",
       "2  4.7  3.2  1.3  0.2  Iris-setosa\n",
       "3  4.6  3.1  1.5  0.2  Iris-setosa\n",
       "4  5.0  3.6  1.4  0.2  Iris-setosa"
      ]
     },
     "execution_count": 77,
     "metadata": {},
     "output_type": "execute_result"
    }
   ],
   "source": [
    "# Webpage URL\n",
    "import pandas as pd\n",
    "\n",
    "url = \"https://archive.ics.uci.edu/ml/machine-learning-databases/iris/iris.data\"\n",
    "\n",
    "# Read data from URL\n",
    "iris_data = pd.read_csv(url, header=None)\n",
    "\n",
    "iris_data.head() "
   ]
  },
  {
   "cell_type": "code",
   "execution_count": 78,
   "metadata": {},
   "outputs": [
    {
     "data": {
      "text/html": [
       "<div>\n",
       "<style scoped>\n",
       "    .dataframe tbody tr th:only-of-type {\n",
       "        vertical-align: middle;\n",
       "    }\n",
       "\n",
       "    .dataframe tbody tr th {\n",
       "        vertical-align: top;\n",
       "    }\n",
       "\n",
       "    .dataframe thead th {\n",
       "        text-align: right;\n",
       "    }\n",
       "</style>\n",
       "<table border=\"1\" class=\"dataframe\">\n",
       "  <thead>\n",
       "    <tr style=\"text-align: right;\">\n",
       "      <th></th>\n",
       "      <th>sepal_length_in_cm</th>\n",
       "      <th>sepal_width_in_cm</th>\n",
       "      <th>petal_length_in_cm</th>\n",
       "      <th>petal_width_in_cm</th>\n",
       "      <th>class</th>\n",
       "    </tr>\n",
       "  </thead>\n",
       "  <tbody>\n",
       "    <tr>\n",
       "      <th>0</th>\n",
       "      <td>5.1</td>\n",
       "      <td>3.5</td>\n",
       "      <td>1.4</td>\n",
       "      <td>0.2</td>\n",
       "      <td>Iris-setosa</td>\n",
       "    </tr>\n",
       "    <tr>\n",
       "      <th>1</th>\n",
       "      <td>4.9</td>\n",
       "      <td>3.0</td>\n",
       "      <td>1.4</td>\n",
       "      <td>0.2</td>\n",
       "      <td>Iris-setosa</td>\n",
       "    </tr>\n",
       "    <tr>\n",
       "      <th>2</th>\n",
       "      <td>4.7</td>\n",
       "      <td>3.2</td>\n",
       "      <td>1.3</td>\n",
       "      <td>0.2</td>\n",
       "      <td>Iris-setosa</td>\n",
       "    </tr>\n",
       "    <tr>\n",
       "      <th>3</th>\n",
       "      <td>4.6</td>\n",
       "      <td>3.1</td>\n",
       "      <td>1.5</td>\n",
       "      <td>0.2</td>\n",
       "      <td>Iris-setosa</td>\n",
       "    </tr>\n",
       "    <tr>\n",
       "      <th>4</th>\n",
       "      <td>5.0</td>\n",
       "      <td>3.6</td>\n",
       "      <td>1.4</td>\n",
       "      <td>0.2</td>\n",
       "      <td>Iris-setosa</td>\n",
       "    </tr>\n",
       "  </tbody>\n",
       "</table>\n",
       "</div>"
      ],
      "text/plain": [
       "   sepal_length_in_cm  sepal_width_in_cm  petal_length_in_cm  \\\n",
       "0                 5.1                3.5                 1.4   \n",
       "1                 4.9                3.0                 1.4   \n",
       "2                 4.7                3.2                 1.3   \n",
       "3                 4.6                3.1                 1.5   \n",
       "4                 5.0                3.6                 1.4   \n",
       "\n",
       "   petal_width_in_cm        class  \n",
       "0                0.2  Iris-setosa  \n",
       "1                0.2  Iris-setosa  \n",
       "2                0.2  Iris-setosa  \n",
       "3                0.2  Iris-setosa  \n",
       "4                0.2  Iris-setosa  "
      ]
     },
     "execution_count": 78,
     "metadata": {},
     "output_type": "execute_result"
    }
   ],
   "source": [
    "# Webpage URL\n",
    "url = \"https://archive.ics.uci.edu/ml/machine-learning-databases/iris/iris.data\"\n",
    "\n",
    "# Define the column names\n",
    "col_names = [\"sepal_length_in_cm\",\n",
    "            \"sepal_width_in_cm\",\n",
    "            \"petal_length_in_cm\",\n",
    "            \"petal_width_in_cm\",\n",
    "            \"class\"]\n",
    "\n",
    "# Read data from URL\n",
    "iris_data = pd.read_csv(url, names=col_names)\n",
    "\n",
    "iris_data.head() "
   ]
  },
  {
   "cell_type": "markdown",
   "metadata": {},
   "source": [
    "## Data Visualization "
   ]
  },
  {
   "cell_type": "markdown",
   "metadata": {},
   "source": [
    "The below line will make sure that the image created by the mathplot will be \n",
    "shown inside Jupyter notebook."
   ]
  },
  {
   "cell_type": "code",
   "execution_count": 79,
   "metadata": {},
   "outputs": [],
   "source": [
    "%matplotlib inline"
   ]
  },
  {
   "cell_type": "markdown",
   "metadata": {},
   "source": [
    "Let us plot a histogram for duration time."
   ]
  },
  {
   "cell_type": "code",
   "execution_count": 80,
   "metadata": {},
   "outputs": [
    {
     "data": {
      "text/plain": [
       "<Axes: ylabel='Frequency'>"
      ]
     },
     "execution_count": 80,
     "metadata": {},
     "output_type": "execute_result"
    },
    {
     "data": {
      "image/png": "[encoded data removed]",
      "text/plain": [
       "<Figure size 640x480 with 1 Axes>"
      ]
     },
     "metadata": {},
     "output_type": "display_data"
    }
   ],
   "source": [
    "newmovies3.duration.plot(kind='hist', bins=30)"
   ]
  },
  {
   "cell_type": "code",
   "execution_count": 89,
   "metadata": {},
   "outputs": [
    {
     "name": "stdout",
     "output_type": "stream",
     "text": [
      "10\n",
      "n: [3.14753438e-04 1.13704679e-02 7.59342669e-03 4.48523649e-04\n",
      " 7.08195235e-05 2.75409258e-05 1.18032539e-05 0.00000000e+00\n",
      " 0.00000000e+00 3.93441797e-06]\n",
      "bins:  [  7.   57.4 107.8 158.2 208.6 259.  309.4 359.8 410.2 460.6 511. ]\n",
      "++++++++++++++++\n",
      "<BarContainer object of 10 artists>\n"
     ]
    },
    {
     "data": {
      "image/png": "[encoded data removed]",
      "text/plain": [
       "<Figure size 640x480 with 1 Axes>"
      ]
     },
     "metadata": {},
     "output_type": "display_data"
    }
   ],
   "source": [
    "import matplotlib.pyplot as plt\n",
    "\n",
    "n, bins, patches = plt.hist(newmovies3['duration'], 10, density=1,facecolor = \"r\", alpha = 0.8)\n",
    "\n",
    "print(len(n)) \n",
    "print(\"n:\", n)\n",
    "print(\"bins: \", bins)\n",
    "print(\"++++++++++++++++\")\n",
    "print(patches)\n",
    "plt.show()"
   ]
  },
  {
   "cell_type": "markdown",
   "metadata": {},
   "source": [
    "Let's consider another dataset to understand different plotting choices. "
   ]
  },
  {
   "cell_type": "code",
   "execution_count": 82,
   "metadata": {},
   "outputs": [
    {
     "name": "stdout",
     "output_type": "stream",
     "text": [
      "  Name  sales_budget  marketing_budget  Income\n",
      "0  PLP           123                90     400\n",
      "1   MX           340                85     700\n",
      "2   YP            45                55     210\n",
      "3   UP            27                60     200\n",
      "4   QT            80               100     225\n",
      "(11, 4)\n"
     ]
    }
   ],
   "source": [
    "company = pd.read_csv('company.csv')\n",
    "print(company.head())\n",
    "print(company.shape)"
   ]
  },
  {
   "cell_type": "code",
   "execution_count": 83,
   "metadata": {},
   "outputs": [
    {
     "name": "stdout",
     "output_type": "stream",
     "text": [
      "   Name  sales_budget  marketing_budget  Income\n",
      "0   PLP           123                90     400\n",
      "1    MX           340                85     700\n",
      "2    YP            45                55     210\n",
      "3    UP            27                60     200\n",
      "4    QT            80               100     225\n",
      "5    AD            95               100     300\n",
      "6    XC            26                40     150\n",
      "7    MA            72                90     220\n",
      "8    GP            66                80     290\n",
      "9    LA            54                70     240\n",
      "10   WT            43                50     150\n"
     ]
    }
   ],
   "source": [
    "print(company.head(15))"
   ]
  },
  {
   "cell_type": "code",
   "execution_count": 84,
   "metadata": {},
   "outputs": [
    {
     "name": "stdout",
     "output_type": "stream",
     "text": [
      "      sales_budget  marketing_budget  Income\n",
      "Name                                        \n",
      "PLP            123                90     400\n",
      "MX             340                85     700\n",
      "YP              45                55     210\n",
      "UP              27                60     200\n",
      "QT              80               100     225\n"
     ]
    }
   ],
   "source": [
    "company = pd.read_csv('company.csv')\n",
    "company = company.set_index('Name')\n",
    "print(company.head())"
   ]
  },
  {
   "cell_type": "markdown",
   "metadata": {},
   "source": [
    "We plot a scatter plot between the columns sales_budget and marketing_budget."
   ]
  },
  {
   "cell_type": "code",
   "execution_count": 85,
   "metadata": {},
   "outputs": [
    {
     "data": {
      "text/plain": [
       "<Axes: xlabel='marketing_budget', ylabel='sales_budget'>"
      ]
     },
     "execution_count": 85,
     "metadata": {},
     "output_type": "execute_result"
    },
    {
     "data": {
      "image/png": "[encoded data removed]",
      "text/plain": [
       "<Figure size 640x480 with 1 Axes>"
      ]
     },
     "metadata": {},
     "output_type": "display_data"
    }
   ],
   "source": [
    "company.plot(kind='scatter', x ='marketing_budget', y='sales_budget')"
   ]
  },
  {
   "cell_type": "markdown",
   "metadata": {},
   "source": [
    "Creating a series with column sales_budget."
   ]
  },
  {
   "cell_type": "code",
   "execution_count": 86,
   "metadata": {},
   "outputs": [
    {
     "name": "stdout",
     "output_type": "stream",
     "text": [
      "Name\n",
      "XC      26\n",
      "UP      27\n",
      "WT      43\n",
      "YP      45\n",
      "LA      54\n",
      "GP      66\n",
      "MA      72\n",
      "QT      80\n",
      "AD      95\n",
      "PLP    123\n",
      "MX     340\n",
      "Name: sales_budget, dtype: int64\n"
     ]
    }
   ],
   "source": [
    "sales = company['sales_budget'].copy(deep=True)\n",
    "sales.sort_values(inplace=True)\n",
    "\n",
    "print(sales)"
   ]
  },
  {
   "cell_type": "code",
   "execution_count": 87,
   "metadata": {},
   "outputs": [
    {
     "data": {
      "text/plain": [
       "Text(0, 0.5, 'Sales')"
      ]
     },
     "execution_count": 87,
     "metadata": {},
     "output_type": "execute_result"
    },
    {
     "data": {
      "image/png": "[encoded data removed]",
      "text/plain": [
       "<Figure size 640x480 with 1 Axes>"
      ]
     },
     "metadata": {},
     "output_type": "display_data"
    }
   ],
   "source": [
    "sales_plot = sales.plot(kind='bar', color='green')\n",
    "sales_plot.set_xlabel(\"Company Name\")\n",
    "sales_plot.set_ylabel(\"Sales\")"
   ]
  },
  {
   "cell_type": "code",
   "execution_count": 88,
   "metadata": {},
   "outputs": [
    {
     "data": {
      "text/plain": [
       "'\\nIn-class activity: Use the companies data frame and create a data \\nseries with company name and marketing budget. \\n1) Create a bar graph with company name on the x-axis and \\nmarketing budget on the y-axis. \\n'"
      ]
     },
     "execution_count": 88,
     "metadata": {},
     "output_type": "execute_result"
    }
   ],
   "source": [
    "\"\"\"\n",
    "In-class activity: Use the companies data frame and create a data \n",
    "series with company name and marketing budget. \n",
    "1) Create a bar graph with company name on the x-axis and \n",
    "marketing budget on the y-axis. \n",
    "\"\"\""
   ]
  },
  {
   "cell_type": "markdown",
   "metadata": {},
   "source": [
    "#### Important sites to get datasets from\n",
    "\n",
    "https://archive.ics.uci.edu/ml/index.php\n",
    "\n",
    "www.kaggle.com\n",
    "\n",
    "https://pandas.pydata.org/Pandas_Cheat_Sheet.pdf\n"
   ]
  },
  {
   "cell_type": "code",
   "execution_count": null,
   "metadata": {},
   "outputs": [],
   "source": []
  }
 ],
 "metadata": {
  "kernelspec": {
   "display_name": "Python [conda env:base] *",
   "language": "python",
   "name": "conda-base-py"
  },
  "language_info": {
   "codemirror_mode": {
    "name": "ipython",
    "version": 3
   },
   "file_extension": ".py",
   "mimetype": "text/x-python",
   "name": "python",
   "nbconvert_exporter": "python",
   "pygments_lexer": "ipython3",
   "version": "3.12.7"
  },
  "widgets": {
   "state": {},
   "version": "1.1.2"
  }
 },
 "nbformat": 4,
 "nbformat_minor": 4
}
