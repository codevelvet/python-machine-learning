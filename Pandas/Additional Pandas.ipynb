{
 "cells": [
  {
   "cell_type": "code",
   "execution_count": 1,
   "metadata": {},
   "outputs": [],
   "source": [
    "import pandas as pd\n",
    "import numpy as np"
   ]
  },
  {
   "cell_type": "code",
   "execution_count": 2,
   "metadata": {},
   "outputs": [],
   "source": [
    "A = {\"Name_Teacher\" : [\"Ann\", \"Mala\", \"Sean\", \"Juan\"], \n",
    "     \"Category_1\":[\"12.4\", \"15.20\", \"6.31\", \"7.5\"], \n",
    "     \"Category_2\":[\"2.10\", \"3.12\", \"5.19\", \"4.9\"],\n",
    "     \"DC\":[\"2.1\", \"6.5\", \"7.1\", \"6.5\"]}"
   ]
  },
  {
   "cell_type": "code",
   "execution_count": 3,
   "metadata": {},
   "outputs": [
    {
     "name": "stdout",
     "output_type": "stream",
     "text": [
      "{'Name_Teacher': ['Ann', 'Mala', 'Sean', 'Juan'], 'Category_1': ['12.4', '15.20', '6.31', '7.5'], 'Category_2': ['2.10', '3.12', '5.19', '4.9'], 'DC': ['2.1', '6.5', '7.1', '6.5']}\n"
     ]
    }
   ],
   "source": [
    "print(A)"
   ]
  },
  {
   "cell_type": "code",
   "execution_count": 4,
   "metadata": {},
   "outputs": [],
   "source": [
    "Ad = pd.DataFrame(A, index=[\"I1\", \"I2\", \"I3\", \"I4\"])"
   ]
  },
  {
   "cell_type": "code",
   "execution_count": 5,
   "metadata": {},
   "outputs": [
    {
     "name": "stdout",
     "output_type": "stream",
     "text": [
      "   Name_Teacher Category_1 Category_2   DC\n",
      "I1          Ann       12.4       2.10  2.1\n",
      "I2         Mala      15.20       3.12  6.5\n",
      "I3         Sean       6.31       5.19  7.1\n",
      "I4         Juan        7.5        4.9  6.5\n"
     ]
    }
   ],
   "source": [
    "print(Ad)"
   ]
  },
  {
   "cell_type": "code",
   "execution_count": 6,
   "metadata": {},
   "outputs": [],
   "source": [
    "Ad2 = Ad.copy(deep = True) # deep=True will make sure that Ad2 and Ad are pointing to two different dataframes\n",
    "Ad3 = Ad.copy(deep = True)"
   ]
  },
  {
   "cell_type": "code",
   "execution_count": 7,
   "metadata": {},
   "outputs": [
    {
     "name": "stdout",
     "output_type": "stream",
     "text": [
      "   Teacher     C1    C2   DC\n",
      "I1     Ann   12.4  2.10  2.1\n",
      "I2    Mala  15.20  3.12  6.5\n",
      "I3    Sean   6.31  5.19  7.1\n",
      "I4    Juan    7.5   4.9  6.5\n"
     ]
    }
   ],
   "source": [
    "# let's rename the columns to Teacher, C1 and C2\n",
    "\n",
    "Ad.columns = [\"Teacher\", \"C1\", \"C2\", \"DC\"]\n",
    "print(Ad)"
   ]
  },
  {
   "cell_type": "code",
   "execution_count": 8,
   "metadata": {},
   "outputs": [],
   "source": [
    "# We can also use rename() method to rename columns. Here we only changes two column names\n",
    "\n",
    "Ad2.rename(columns={\"Name_Teacher\": \"Teacher\", \"Category_1\": \"C1\", \"Category_2\":\"C2\"}, inplace=True)"
   ]
  },
  {
   "cell_type": "code",
   "execution_count": 9,
   "metadata": {},
   "outputs": [
    {
     "name": "stdout",
     "output_type": "stream",
     "text": [
      "   Teacher     C1    C2   DC\n",
      "I1     Ann   12.4  2.10  2.1\n",
      "I2    Mala  15.20  3.12  6.5\n",
      "I3    Sean   6.31  5.19  7.1\n",
      "I4    Juan    7.5   4.9  6.5\n"
     ]
    }
   ],
   "source": [
    "print(Ad2)"
   ]
  },
  {
   "cell_type": "code",
   "execution_count": 10,
   "metadata": {},
   "outputs": [
    {
     "name": "stdout",
     "output_type": "stream",
     "text": [
      "   Teacher     C1    C2   DC\n",
      "I1     Ann   12.4  2.10  2.1\n",
      "I2    Mala  15.20  3.12  6.5\n",
      "I3    Sean   6.31  5.19  7.1\n",
      "I4    Juan    7.5   4.9  6.5\n",
      "Teacher    object\n",
      "C1         object\n",
      "C2         object\n",
      "DC         object\n",
      "dtype: object\n"
     ]
    }
   ],
   "source": [
    "print(Ad)\n",
    "print(Ad.dtypes)"
   ]
  },
  {
   "cell_type": "code",
   "execution_count": 11,
   "metadata": {},
   "outputs": [],
   "source": [
    "Ad = Ad.drop([\"C1\"], axis=1)"
   ]
  },
  {
   "cell_type": "code",
   "execution_count": 12,
   "metadata": {},
   "outputs": [
    {
     "name": "stdout",
     "output_type": "stream",
     "text": [
      "   Teacher    C2   DC\n",
      "I1     Ann  2.10  2.1\n",
      "I2    Mala  3.12  6.5\n",
      "I3    Sean  5.19  7.1\n",
      "I4    Juan   4.9  6.5\n"
     ]
    }
   ],
   "source": [
    "print(Ad)"
   ]
  },
  {
   "cell_type": "code",
   "execution_count": 13,
   "metadata": {},
   "outputs": [
    {
     "name": "stdout",
     "output_type": "stream",
     "text": [
      "Teacher     object\n",
      "C2         float64\n",
      "DC         float64\n",
      "dtype: object\n"
     ]
    }
   ],
   "source": [
    "# long way\n",
    "\n",
    "# Ad[\"C2\"] = Ad[\"C2\"].astype(float)\n",
    "# Ad[\"DC\"] = Ad[\"DC\"].astype(float)\n",
    "\n",
    "\n",
    "convert_dict = {'C2': float,\n",
    "                'DC': float}\n",
    "  \n",
    "Ad = Ad.astype(convert_dict)\n",
    "print(Ad.dtypes)"
   ]
  },
  {
   "cell_type": "code",
   "execution_count": 14,
   "metadata": {},
   "outputs": [
    {
     "name": "stdout",
     "output_type": "stream",
     "text": [
      "   Teacher    C2   DC\n",
      "I1     Ann  2.10  2.1\n",
      "I2    Mala  3.12  6.5\n",
      "I3    Sean  5.19  7.1\n",
      "I4    Juan  4.90  6.5\n",
      "+++++++++++++\n",
      "Teacher    Sean\n",
      "C2         5.19\n",
      "DC          7.1\n",
      "Name: I3, dtype: object\n",
      "+++++++++++++\n",
      "   Teacher    C2   DC\n",
      "I3    Sean  5.19  7.1\n"
     ]
    }
   ],
   "source": [
    "# iloc[n] will return the row at Python index n\n",
    "\n",
    "\n",
    "print(Ad)\n",
    "\n",
    "print(\"+++++++++++++\")\n",
    "print(Ad.iloc[2])\n",
    "\n",
    "print(\"+++++++++++++\")\n",
    "print(Ad.iloc[[2]])\n"
   ]
  },
  {
   "cell_type": "code",
   "execution_count": 15,
   "metadata": {},
   "outputs": [
    {
     "name": "stdout",
     "output_type": "stream",
     "text": [
      "   Teacher    C2   DC\n",
      "I1     Ann  2.10  2.1\n",
      "I2    Mala  3.12  6.5\n"
     ]
    }
   ],
   "source": [
    "# we can also use slicing with iloc to get multiple rows\n",
    "\n",
    "print(Ad.iloc[0:2])"
   ]
  },
  {
   "cell_type": "code",
   "execution_count": 16,
   "metadata": {},
   "outputs": [
    {
     "name": "stdout",
     "output_type": "stream",
     "text": [
      "Teacher    Mala\n",
      "C2         3.12\n",
      "DC          6.5\n",
      "Name: I2, dtype: object\n"
     ]
    }
   ],
   "source": [
    "# using loc[custom_index] we can access custom_index row. If there is no custom_index, it will consider Python index \n",
    "\n",
    "print(Ad.loc[\"I2\"])"
   ]
  },
  {
   "cell_type": "code",
   "execution_count": 17,
   "metadata": {},
   "outputs": [
    {
     "data": {
      "text/plain": [
       "'\\nIn-class activity 1: Create a Pandas dataframe that has the following information and \\ncall this dataframe df1:\\n\\nFirst_Name - Asha, Ajay, Polly, Liz\\nLast_Name - Lani, Pali, Santos, Park\\nZip_code - 20110, 57714, 76501, 95117\\n\\nRename the columns to First, Last and Zip\\n'"
      ]
     },
     "execution_count": 17,
     "metadata": {},
     "output_type": "execute_result"
    }
   ],
   "source": [
    "\"\"\"\n",
    "In-class activity 1: Create a Pandas dataframe that has the following information and \n",
    "call this dataframe df1:\n",
    "\n",
    "First_Name - Asha, Ajay, Polly, Liz\n",
    "Last_Name - Lani, Pali, Santos, Park\n",
    "Zip_code - 20110, 57714, 76501, 95117\n",
    "\n",
    "Rename the columns to First, Last and Zip\n",
    "\"\"\"\n"
   ]
  },
  {
   "cell_type": "markdown",
   "metadata": {},
   "source": [
    "<hr style=\"border:2px solid gray\">\n",
    "\n",
    "Next we will start with a list, convert it into a DataFrame, then rename the column, add another column etc.\n",
    "\n",
    "\n",
    "<hr style=\"border:2px solid gray\">"
   ]
  },
  {
   "cell_type": "code",
   "execution_count": 18,
   "metadata": {},
   "outputs": [
    {
     "name": "stdout",
     "output_type": "stream",
     "text": [
      "    0\n",
      "0  12\n",
      "1  14\n",
      "2  16\n",
      "3  12\n",
      "4  18\n",
      "5  19\n",
      "6  16\n",
      "7  20\n",
      "8  17\n",
      "9  12\n",
      "(10, 1)\n",
      "Number of rows in B 10\n"
     ]
    }
   ],
   "source": [
    "list1 = [12, 14, 16, 12, 18, 19, 16, 20, 17, 12]\n",
    "\n",
    "B = pd.DataFrame(list1)\n",
    "\n",
    "print(B)\n",
    "print(B.shape)\n",
    "print(\"Number of rows in B\", B.shape[0])"
   ]
  },
  {
   "cell_type": "code",
   "execution_count": 19,
   "metadata": {},
   "outputs": [
    {
     "name": "stdout",
     "output_type": "stream",
     "text": [
      "0    19\n",
      "Name: 5, dtype: int64\n",
      "0    19\n",
      "Name: 5, dtype: int64\n"
     ]
    }
   ],
   "source": [
    "# Since B doesn't have custom_index yet, iloc[n] and loc[n] will return nth row\n",
    "\n",
    "print(B.iloc[5])\n",
    "\n",
    "print(B.loc[5])"
   ]
  },
  {
   "cell_type": "code",
   "execution_count": 20,
   "metadata": {},
   "outputs": [
    {
     "name": "stdout",
     "output_type": "stream",
     "text": [
      "    0\n",
      "0  12\n",
      "1  14\n",
      "2  16\n",
      "4  18\n",
      "5  19\n",
      "7  20\n",
      "8  17\n",
      "Number of rows in B 7\n"
     ]
    }
   ],
   "source": [
    "# drop_duplicates will drop duplicate rows\n",
    "\n",
    "B.drop_duplicates(inplace=True)\n",
    "\n",
    "print(B)\n",
    "print(\"Number of rows in B\", B.shape[0])"
   ]
  },
  {
   "cell_type": "code",
   "execution_count": 21,
   "metadata": {},
   "outputs": [],
   "source": [
    "# Adding column name to an exsisting dataframe\n",
    "\n",
    "B.rename(columns={'0':\"Values\"}, inplace=True)\n"
   ]
  },
  {
   "cell_type": "code",
   "execution_count": 22,
   "metadata": {},
   "outputs": [
    {
     "name": "stdout",
     "output_type": "stream",
     "text": [
      "<class 'pandas.core.frame.DataFrame'>\n",
      "Index: 7 entries, 0 to 8\n",
      "Data columns (total 1 columns):\n",
      " #   Column  Non-Null Count  Dtype\n",
      "---  ------  --------------  -----\n",
      " 0   0       7 non-null      int64\n",
      "dtypes: int64(1)\n",
      "memory usage: 112.0 bytes\n"
     ]
    }
   ],
   "source": [
    "B.info()"
   ]
  },
  {
   "cell_type": "code",
   "execution_count": 23,
   "metadata": {},
   "outputs": [
    {
     "name": "stdout",
     "output_type": "stream",
     "text": [
      "    0\n",
      "A  12\n",
      "B  14\n",
      "C  16\n",
      "D  18\n",
      "E  19\n",
      "F  20\n",
      "G  17\n"
     ]
    }
   ],
   "source": [
    "# Adding custom index to an exsisting dataframe\n",
    "\n",
    "B.index = [\"A\", \"B\", \"C\", \"D\", \"E\", \"F\", \"G\"]\n",
    "\n",
    "print(B)"
   ]
  },
  {
   "cell_type": "code",
   "execution_count": 24,
   "metadata": {},
   "outputs": [
    {
     "name": "stdout",
     "output_type": "stream",
     "text": [
      "    0  Names\n",
      "A  12   Ball\n",
      "B  14   Hall\n",
      "C  16   Doll\n",
      "D  18   Mall\n",
      "E  19  Shawl\n",
      "F  20   Wall\n",
      "G  17   Call\n"
     ]
    }
   ],
   "source": [
    "# Adding additional columns to an existing dataframe\n",
    "\n",
    "list2 = [\"Ball\", \"Hall\", \"Doll\", \"Mall\", \"Shawl\", \"Wall\", \"Call\"]\n",
    "\n",
    "B[\"Names\"] = list2\n",
    "\n",
    "print(B)"
   ]
  },
  {
   "cell_type": "code",
   "execution_count": 25,
   "metadata": {},
   "outputs": [],
   "source": [
    "B.rename(columns={0:'Values'}, inplace=True)"
   ]
  },
  {
   "cell_type": "code",
   "execution_count": 26,
   "metadata": {},
   "outputs": [
    {
     "name": "stdout",
     "output_type": "stream",
     "text": [
      "<class 'pandas.core.frame.DataFrame'>\n",
      "Index: 7 entries, A to G\n",
      "Data columns (total 2 columns):\n",
      " #   Column  Non-Null Count  Dtype \n",
      "---  ------  --------------  ----- \n",
      " 0   Values  7 non-null      int64 \n",
      " 1   Names   7 non-null      object\n",
      "dtypes: int64(1), object(1)\n",
      "memory usage: 168.0+ bytes\n"
     ]
    }
   ],
   "source": [
    "B.info()"
   ]
  },
  {
   "cell_type": "code",
   "execution_count": 27,
   "metadata": {},
   "outputs": [
    {
     "name": "stdout",
     "output_type": "stream",
     "text": [
      "   Values  Names\n",
      "C      16   Doll\n",
      "D      18   Mall\n",
      "E      19  Shawl\n",
      "F      20   Wall\n",
      "G      17   Call\n"
     ]
    }
   ],
   "source": [
    "print(B[B['Values']>15])"
   ]
  },
  {
   "cell_type": "code",
   "execution_count": 28,
   "metadata": {},
   "outputs": [
    {
     "data": {
      "text/plain": [
       "'\\nIn-class activity 2: Use the df1 dataframe from the previous in-class activity and add \\nanother column named Scores with values 87, 85, 90, 77. \\nCall the new dataframe as df2.\\n'"
      ]
     },
     "execution_count": 28,
     "metadata": {},
     "output_type": "execute_result"
    }
   ],
   "source": [
    "\"\"\"\n",
    "In-class activity 2: Use the df1 dataframe from the previous in-class activity and add \n",
    "another column named Scores with values 87, 85, 90, 77. \n",
    "Call the new dataframe as df2.\n",
    "\"\"\""
   ]
  },
  {
   "cell_type": "markdown",
   "metadata": {},
   "source": [
    "<hr style=\"border:2px solid gray\">\n",
    "\n",
    "### Combining two dataframes\n",
    "\n",
    "<hr style=\"border:2px solid gray\">"
   ]
  },
  {
   "cell_type": "code",
   "execution_count": 29,
   "metadata": {},
   "outputs": [
    {
     "name": "stdout",
     "output_type": "stream",
     "text": [
      "['Ball', 'Hall', 'Doll', 'Mall', 'Shawl', 'Wall', 'Call']\n"
     ]
    }
   ],
   "source": [
    "print(list2)"
   ]
  },
  {
   "cell_type": "code",
   "execution_count": 30,
   "metadata": {},
   "outputs": [
    {
     "name": "stdout",
     "output_type": "stream",
     "text": [
      "   Values  Names\n",
      "A      12   Ball\n",
      "B      14   Hall\n",
      "C      16   Doll\n",
      "D      18   Mall\n",
      "E      19  Shawl\n",
      "F      20   Wall\n",
      "G      17   Call\n"
     ]
    }
   ],
   "source": [
    "print(B)"
   ]
  },
  {
   "cell_type": "code",
   "execution_count": 31,
   "metadata": {},
   "outputs": [
    {
     "name": "stdout",
     "output_type": "stream",
     "text": [
      "   Names  Numbers\n",
      "0   Ball      2.0\n",
      "1   Hall      6.1\n",
      "2   Doll     13.2\n",
      "3   Mall      5.3\n",
      "4  Shawl      7.4\n",
      "5   Wall      6.3\n",
      "6   Call      8.2\n"
     ]
    }
   ],
   "source": [
    "list3 = [2.0, 6.1, 13.2, 5.3, 7.4, 6.3, 8.2]\n",
    "\n",
    "C = pd.DataFrame(list(zip(list2, list3)), columns=(\"Names\", \"Numbers\"))\n",
    "\n",
    "print(C)"
   ]
  },
  {
   "cell_type": "code",
   "execution_count": 32,
   "metadata": {
    "scrolled": true
   },
   "outputs": [
    {
     "name": "stdout",
     "output_type": "stream",
     "text": [
      "   Values  Names  Names  Numbers\n",
      "A    12.0   Ball    NaN      NaN\n",
      "B    14.0   Hall    NaN      NaN\n",
      "C    16.0   Doll    NaN      NaN\n",
      "D    18.0   Mall    NaN      NaN\n",
      "E    19.0  Shawl    NaN      NaN\n",
      "F    20.0   Wall    NaN      NaN\n",
      "G    17.0   Call    NaN      NaN\n",
      "0     NaN    NaN   Ball      2.0\n",
      "1     NaN    NaN   Hall      6.1\n",
      "2     NaN    NaN   Doll     13.2\n",
      "3     NaN    NaN   Mall      5.3\n",
      "4     NaN    NaN  Shawl      7.4\n",
      "5     NaN    NaN   Wall      6.3\n",
      "6     NaN    NaN   Call      8.2\n"
     ]
    }
   ],
   "source": [
    "newdf2 = pd.concat([B, C], axis=1)\n",
    "\n",
    "print(newdf2)"
   ]
  },
  {
   "cell_type": "code",
   "execution_count": 33,
   "metadata": {},
   "outputs": [
    {
     "name": "stdout",
     "output_type": "stream",
     "text": [
      "   Names\n",
      "A   Ball\n",
      "B   Hall\n",
      "C   Doll\n",
      "D   Mall\n",
      "E  Shawl\n",
      "F   Wall\n",
      "G   Call\n",
      "0   Ball\n",
      "1   Hall\n",
      "2   Doll\n",
      "3   Mall\n",
      "4  Shawl\n",
      "5   Wall\n",
      "6   Call\n"
     ]
    }
   ],
   "source": [
    "newdf3 = pd.concat([B, C], join = \"inner\") # inner is like intersection \n",
    "\n",
    "print(newdf3)"
   ]
  },
  {
   "cell_type": "code",
   "execution_count": 34,
   "metadata": {},
   "outputs": [
    {
     "name": "stdout",
     "output_type": "stream",
     "text": [
      "   Names  Numbers  Values\n",
      "A   Ball      NaN    12.0\n",
      "B   Hall      NaN    14.0\n",
      "C   Doll      NaN    16.0\n",
      "D   Mall      NaN    18.0\n",
      "E  Shawl      NaN    19.0\n",
      "F   Wall      NaN    20.0\n",
      "G   Call      NaN    17.0\n",
      "0   Ball      2.0     NaN\n",
      "1   Hall      6.1     NaN\n",
      "2   Doll     13.2     NaN\n",
      "3   Mall      5.3     NaN\n",
      "4  Shawl      7.4     NaN\n",
      "5   Wall      6.3     NaN\n",
      "6   Call      8.2     NaN\n"
     ]
    }
   ],
   "source": [
    "newdf4 = pd.concat([B, C], join = \"outer\", sort=True) # outer is like union\n",
    "\n",
    "print(newdf4)\n",
    "\n",
    "# concat with outer is same as append"
   ]
  },
  {
   "cell_type": "code",
   "execution_count": 35,
   "metadata": {},
   "outputs": [
    {
     "name": "stdout",
     "output_type": "stream",
     "text": [
      "   Values  Names  Numbers\n",
      "0      12   Ball      2.0\n",
      "1      14   Hall      6.1\n",
      "2      16   Doll     13.2\n",
      "3      18   Mall      5.3\n",
      "4      19  Shawl      7.4\n",
      "5      20   Wall      6.3\n",
      "6      17   Call      8.2\n"
     ]
    }
   ],
   "source": [
    "newf5 = pd.merge(B, C, on=\"Names\")\n",
    "\n",
    "print(newf5)"
   ]
  },
  {
   "cell_type": "markdown",
   "metadata": {},
   "source": [
    "<hr style=\"border:2px solid gray\">\n",
    "\n",
    "### Concatenating two series\n",
    "\n",
    "<hr style=\"border:2px solid gray\">"
   ]
  },
  {
   "cell_type": "code",
   "execution_count": 36,
   "metadata": {},
   "outputs": [
    {
     "name": "stdout",
     "output_type": "stream",
     "text": [
      "0   -1\n",
      "1   -2\n",
      "2   -6\n",
      "3   -5\n",
      "dtype: int64\n",
      "0     9\n",
      "1    10\n",
      "2     4\n",
      "3     3\n",
      "dtype: int64\n"
     ]
    }
   ],
   "source": [
    "S1 = pd.Series([-1, -2, -6, -5])\n",
    "\n",
    "S2 = pd.Series([9, 10, 4, 3])\n",
    "\n",
    "print(S1); print(S2)"
   ]
  },
  {
   "cell_type": "code",
   "execution_count": 37,
   "metadata": {},
   "outputs": [
    {
     "name": "stdout",
     "output_type": "stream",
     "text": [
      "   0   1\n",
      "0 -1   9\n",
      "1 -2  10\n",
      "2 -6   4\n",
      "3 -5   3 <class 'pandas.core.frame.DataFrame'>\n"
     ]
    }
   ],
   "source": [
    "S3 = pd.concat([S1, S2], axis=1)\n",
    "print(S3, type(S3))"
   ]
  },
  {
   "cell_type": "code",
   "execution_count": 38,
   "metadata": {},
   "outputs": [
    {
     "name": "stdout",
     "output_type": "stream",
     "text": [
      "   0   1\n",
      "0 -1   9\n",
      "1 -2  10\n",
      "2 -6   4\n",
      "3 -5   3\n"
     ]
    }
   ],
   "source": [
    "S33 = S3.copy(deep=True)\n",
    "print(S33)"
   ]
  },
  {
   "cell_type": "code",
   "execution_count": 39,
   "metadata": {},
   "outputs": [
    {
     "data": {
      "text/plain": [
       "'\\nIn-class activity: For the above Series S3, add custom column names, C1 and C2 and custom \\nrow indices W, X, Y, Z.\\n'"
      ]
     },
     "execution_count": 39,
     "metadata": {},
     "output_type": "execute_result"
    }
   ],
   "source": [
    "\"\"\"\n",
    "In-class activity: For the above Series S3, add custom column names, C1 and C2 and custom \n",
    "row indices W, X, Y, Z.\n",
    "\"\"\""
   ]
  },
  {
   "cell_type": "markdown",
   "metadata": {},
   "source": [
    "<hr style=\"border:2px solid gray\">\n",
    "\n",
    "### Example to convert categorical to numerical\n",
    "\n",
    "<hr style=\"border:2px solid gray\">"
   ]
  },
  {
   "cell_type": "code",
   "execution_count": 40,
   "metadata": {},
   "outputs": [
    {
     "name": "stdout",
     "output_type": "stream",
     "text": [
      "0    A\n",
      "1    B\n",
      "2    E\n",
      "3    D\n",
      "dtype: object\n"
     ]
    }
   ],
   "source": [
    "S4 = pd.Series([\"A\", \"B\", \"E\", \"D\"])\n",
    "\n",
    "print(S4)"
   ]
  },
  {
   "cell_type": "code",
   "execution_count": 41,
   "metadata": {},
   "outputs": [
    {
     "data": {
      "text/html": [
       "<div>\n",
       "<style scoped>\n",
       "    .dataframe tbody tr th:only-of-type {\n",
       "        vertical-align: middle;\n",
       "    }\n",
       "\n",
       "    .dataframe tbody tr th {\n",
       "        vertical-align: top;\n",
       "    }\n",
       "\n",
       "    .dataframe thead th {\n",
       "        text-align: right;\n",
       "    }\n",
       "</style>\n",
       "<table border=\"1\" class=\"dataframe\">\n",
       "  <thead>\n",
       "    <tr style=\"text-align: right;\">\n",
       "      <th></th>\n",
       "      <th>A</th>\n",
       "      <th>B</th>\n",
       "      <th>D</th>\n",
       "      <th>E</th>\n",
       "    </tr>\n",
       "  </thead>\n",
       "  <tbody>\n",
       "    <tr>\n",
       "      <th>0</th>\n",
       "      <td>True</td>\n",
       "      <td>False</td>\n",
       "      <td>False</td>\n",
       "      <td>False</td>\n",
       "    </tr>\n",
       "    <tr>\n",
       "      <th>1</th>\n",
       "      <td>False</td>\n",
       "      <td>True</td>\n",
       "      <td>False</td>\n",
       "      <td>False</td>\n",
       "    </tr>\n",
       "    <tr>\n",
       "      <th>2</th>\n",
       "      <td>False</td>\n",
       "      <td>False</td>\n",
       "      <td>False</td>\n",
       "      <td>True</td>\n",
       "    </tr>\n",
       "    <tr>\n",
       "      <th>3</th>\n",
       "      <td>False</td>\n",
       "      <td>False</td>\n",
       "      <td>True</td>\n",
       "      <td>False</td>\n",
       "    </tr>\n",
       "  </tbody>\n",
       "</table>\n",
       "</div>"
      ],
      "text/plain": [
       "       A      B      D      E\n",
       "0   True  False  False  False\n",
       "1  False   True  False  False\n",
       "2  False  False  False   True\n",
       "3  False  False   True  False"
      ]
     },
     "execution_count": 41,
     "metadata": {},
     "output_type": "execute_result"
    }
   ],
   "source": [
    "pd.get_dummies(S4) # when we want to convert a categorical variable into numeric"
   ]
  },
  {
   "cell_type": "code",
   "execution_count": 42,
   "metadata": {},
   "outputs": [
    {
     "data": {
      "text/plain": [
       "'\\nIn-class activity 3: create dataframe ddf1 with values\\nColors - Red, Yellow, Orange\\nRatings- 5, 3, 4\\n\\nCreate another dataframe ddf2 with values\\n\\nColors - Blue, Green, Orange\\nRatings- 5, 3, 4\\n\\n1) Combine ddf1 and ddf2 along the rows and call it ddf3\\n\\n2) Remove any duplicates from ddf3.\\n\\n'"
      ]
     },
     "execution_count": 42,
     "metadata": {},
     "output_type": "execute_result"
    }
   ],
   "source": [
    "\"\"\"\n",
    "In-class activity 3: create dataframe ddf1 with values\n",
    "Colors - Red, Yellow, Orange\n",
    "Ratings- 5, 3, 4\n",
    "\n",
    "Create another dataframe ddf2 with values\n",
    "\n",
    "Colors - Blue, Green, Orange\n",
    "Ratings- 5, 3, 4\n",
    "\n",
    "1) Combine ddf1 and ddf2 along the rows and call it ddf3\n",
    "\n",
    "2) Remove any duplicates from ddf3.\n",
    "\n",
    "\"\"\""
   ]
  },
  {
   "cell_type": "code",
   "execution_count": null,
   "metadata": {},
   "outputs": [],
   "source": []
  },
  {
   "cell_type": "code",
   "execution_count": null,
   "metadata": {},
   "outputs": [],
   "source": []
  }
 ],
 "metadata": {
  "kernelspec": {
   "display_name": "Python 3 (ipykernel)",
   "language": "python",
   "name": "python3"
  },
  "language_info": {
   "codemirror_mode": {
    "name": "ipython",
    "version": 3
   },
   "file_extension": ".py",
   "mimetype": "text/x-python",
   "name": "python",
   "nbconvert_exporter": "python",
   "pygments_lexer": "ipython3",
   "version": "3.11.5"
  }
 },
 "nbformat": 4,
 "nbformat_minor": 2
}
